{
 "cells": [
  {
   "cell_type": "code",
   "execution_count": 1,
   "metadata": {},
   "outputs": [],
   "source": [
    "import pandas as pd\n",
    "import datetime\n",
    "import pickle\n",
    "import plotly.express as px\n",
    "import os.path\n",
    "import csv\n",
    "from pathlib import Path"
   ]
  },
  {
   "cell_type": "code",
   "execution_count": 2,
   "metadata": {},
   "outputs": [
    {
     "data": {
      "text/html": [
       "<div>\n",
       "<style scoped>\n",
       "    .dataframe tbody tr th:only-of-type {\n",
       "        vertical-align: middle;\n",
       "    }\n",
       "\n",
       "    .dataframe tbody tr th {\n",
       "        vertical-align: top;\n",
       "    }\n",
       "\n",
       "    .dataframe thead th {\n",
       "        text-align: right;\n",
       "    }\n",
       "</style>\n",
       "<table border=\"1\" class=\"dataframe\">\n",
       "  <thead>\n",
       "    <tr style=\"text-align: right;\">\n",
       "      <th></th>\n",
       "      <th>Date</th>\n",
       "      <th>Communication Services</th>\n",
       "      <th>Consumer Discretionary</th>\n",
       "      <th>Consumer Staples</th>\n",
       "      <th>Energy</th>\n",
       "      <th>Financials</th>\n",
       "      <th>Health Care</th>\n",
       "      <th>Industrials</th>\n",
       "      <th>Information Technology</th>\n",
       "      <th>Materials</th>\n",
       "      <th>Utilities</th>\n",
       "    </tr>\n",
       "  </thead>\n",
       "  <tbody>\n",
       "    <tr>\n",
       "      <th>0</th>\n",
       "      <td>1/31/1999</td>\n",
       "      <td>0.088633</td>\n",
       "      <td>0.045275</td>\n",
       "      <td>-0.026888</td>\n",
       "      <td>-0.056953</td>\n",
       "      <td>0.011041</td>\n",
       "      <td>-0.004394</td>\n",
       "      <td>0.007010</td>\n",
       "      <td>0.152047</td>\n",
       "      <td>-0.039150</td>\n",
       "      <td>-0.063299</td>\n",
       "    </tr>\n",
       "    <tr>\n",
       "      <th>1</th>\n",
       "      <td>2/28/1999</td>\n",
       "      <td>-0.027471</td>\n",
       "      <td>-0.003462</td>\n",
       "      <td>-0.039561</td>\n",
       "      <td>-0.033973</td>\n",
       "      <td>0.006529</td>\n",
       "      <td>-0.003032</td>\n",
       "      <td>-0.029693</td>\n",
       "      <td>-0.120986</td>\n",
       "      <td>-0.000627</td>\n",
       "      <td>-0.036748</td>\n",
       "    </tr>\n",
       "    <tr>\n",
       "      <th>2</th>\n",
       "      <td>3/31/1999</td>\n",
       "      <td>-0.011020</td>\n",
       "      <td>0.040829</td>\n",
       "      <td>-0.015490</td>\n",
       "      <td>0.151233</td>\n",
       "      <td>0.030270</td>\n",
       "      <td>0.023315</td>\n",
       "      <td>0.033120</td>\n",
       "      <td>0.086232</td>\n",
       "      <td>0.019981</td>\n",
       "      <td>-0.019142</td>\n",
       "    </tr>\n",
       "    <tr>\n",
       "      <th>3</th>\n",
       "      <td>4/30/1999</td>\n",
       "      <td>0.049122</td>\n",
       "      <td>0.046063</td>\n",
       "      <td>0.011206</td>\n",
       "      <td>0.157663</td>\n",
       "      <td>0.068831</td>\n",
       "      <td>-0.056520</td>\n",
       "      <td>0.082948</td>\n",
       "      <td>0.018787</td>\n",
       "      <td>0.235081</td>\n",
       "      <td>0.074431</td>\n",
       "    </tr>\n",
       "    <tr>\n",
       "      <th>4</th>\n",
       "      <td>5/31/1999</td>\n",
       "      <td>0.006260</td>\n",
       "      <td>-0.039077</td>\n",
       "      <td>0.011386</td>\n",
       "      <td>-0.023330</td>\n",
       "      <td>-0.044312</td>\n",
       "      <td>-0.019331</td>\n",
       "      <td>-0.027086</td>\n",
       "      <td>-0.009158</td>\n",
       "      <td>-0.059880</td>\n",
       "      <td>0.063941</td>\n",
       "    </tr>\n",
       "  </tbody>\n",
       "</table>\n",
       "</div>"
      ],
      "text/plain": [
       "        Date  Communication Services  Consumer Discretionary  \\\n",
       "0  1/31/1999                0.088633                0.045275   \n",
       "1  2/28/1999               -0.027471               -0.003462   \n",
       "2  3/31/1999               -0.011020                0.040829   \n",
       "3  4/30/1999                0.049122                0.046063   \n",
       "4  5/31/1999                0.006260               -0.039077   \n",
       "\n",
       "   Consumer Staples    Energy  Financials  Health Care  Industrials  \\\n",
       "0         -0.026888 -0.056953    0.011041    -0.004394     0.007010   \n",
       "1         -0.039561 -0.033973    0.006529    -0.003032    -0.029693   \n",
       "2         -0.015490  0.151233    0.030270     0.023315     0.033120   \n",
       "3          0.011206  0.157663    0.068831    -0.056520     0.082948   \n",
       "4          0.011386 -0.023330   -0.044312    -0.019331    -0.027086   \n",
       "\n",
       "   Information Technology  Materials  Utilities  \n",
       "0                0.152047  -0.039150  -0.063299  \n",
       "1               -0.120986  -0.000627  -0.036748  \n",
       "2                0.086232   0.019981  -0.019142  \n",
       "3                0.018787   0.235081   0.074431  \n",
       "4               -0.009158  -0.059880   0.063941  "
      ]
     },
     "execution_count": 2,
     "metadata": {},
     "output_type": "execute_result"
    }
   ],
   "source": [
    "r3k_csv = Path(\"./r3k_returns_pandas.csv\")\n",
    "r3k_df = pd.read_csv(r3k_csv, parse_dates=True, infer_datetime_format=True)\n",
    "r3k_df.head()"
   ]
  },
  {
   "cell_type": "code",
   "execution_count": 3,
   "metadata": {},
   "outputs": [
    {
     "data": {
      "text/html": [
       "<div>\n",
       "<style scoped>\n",
       "    .dataframe tbody tr th:only-of-type {\n",
       "        vertical-align: middle;\n",
       "    }\n",
       "\n",
       "    .dataframe tbody tr th {\n",
       "        vertical-align: top;\n",
       "    }\n",
       "\n",
       "    .dataframe thead th {\n",
       "        text-align: right;\n",
       "    }\n",
       "</style>\n",
       "<table border=\"1\" class=\"dataframe\">\n",
       "  <thead>\n",
       "    <tr style=\"text-align: right;\">\n",
       "      <th></th>\n",
       "      <th>Annual Return</th>\n",
       "      <th>Sector</th>\n",
       "      <th>Year</th>\n",
       "    </tr>\n",
       "  </thead>\n",
       "  <tbody>\n",
       "  </tbody>\n",
       "</table>\n",
       "</div>"
      ],
      "text/plain": [
       "Empty DataFrame\n",
       "Columns: [Annual Return, Sector, Year]\n",
       "Index: []"
      ]
     },
     "execution_count": 3,
     "metadata": {},
     "output_type": "execute_result"
    }
   ],
   "source": [
    "annual_returns = pd.DataFrame(columns=['Annual Return','Sector','Year'])\n",
    "annual_returns"
   ]
  },
  {
   "cell_type": "code",
   "execution_count": 4,
   "metadata": {},
   "outputs": [
    {
     "data": {
      "text/html": [
       "<div>\n",
       "<style scoped>\n",
       "    .dataframe tbody tr th:only-of-type {\n",
       "        vertical-align: middle;\n",
       "    }\n",
       "\n",
       "    .dataframe tbody tr th {\n",
       "        vertical-align: top;\n",
       "    }\n",
       "\n",
       "    .dataframe thead th {\n",
       "        text-align: right;\n",
       "    }\n",
       "</style>\n",
       "<table border=\"1\" class=\"dataframe\">\n",
       "  <thead>\n",
       "    <tr style=\"text-align: right;\">\n",
       "      <th></th>\n",
       "      <th>Annual Return</th>\n",
       "      <th>Sector</th>\n",
       "      <th>Year</th>\n",
       "      <th>Portfolio</th>\n",
       "    </tr>\n",
       "  </thead>\n",
       "  <tbody>\n",
       "    <tr>\n",
       "      <th>0</th>\n",
       "      <td>0.1013</td>\n",
       "      <td>Consumer Discretionary</td>\n",
       "      <td>2007</td>\n",
       "      <td>Top</td>\n",
       "    </tr>\n",
       "    <tr>\n",
       "      <th>1</th>\n",
       "      <td>0.0963</td>\n",
       "      <td>Consumer Discretionary</td>\n",
       "      <td>2008</td>\n",
       "      <td>Top</td>\n",
       "    </tr>\n",
       "    <tr>\n",
       "      <th>2</th>\n",
       "      <td>0.0673</td>\n",
       "      <td>Consumer Discretionary</td>\n",
       "      <td>2009</td>\n",
       "      <td>Top</td>\n",
       "    </tr>\n",
       "    <tr>\n",
       "      <th>3</th>\n",
       "      <td>0.0699</td>\n",
       "      <td>Consumer Discretionary</td>\n",
       "      <td>2010</td>\n",
       "      <td>Top</td>\n",
       "    </tr>\n",
       "    <tr>\n",
       "      <th>4</th>\n",
       "      <td>0.1322</td>\n",
       "      <td>Consumer Discretionary</td>\n",
       "      <td>2011</td>\n",
       "      <td>Top</td>\n",
       "    </tr>\n",
       "    <tr>\n",
       "      <th>5</th>\n",
       "      <td>0.1034</td>\n",
       "      <td>Consumer Discretionary</td>\n",
       "      <td>2012</td>\n",
       "      <td>Top</td>\n",
       "    </tr>\n",
       "    <tr>\n",
       "      <th>6</th>\n",
       "      <td>0.0326</td>\n",
       "      <td>Consumer Discretionary</td>\n",
       "      <td>2013</td>\n",
       "      <td>Top</td>\n",
       "    </tr>\n",
       "    <tr>\n",
       "      <th>7</th>\n",
       "      <td>0.0439</td>\n",
       "      <td>Consumer Discretionary</td>\n",
       "      <td>2014</td>\n",
       "      <td>Top</td>\n",
       "    </tr>\n",
       "    <tr>\n",
       "      <th>8</th>\n",
       "      <td>0.0237</td>\n",
       "      <td>Consumer Discretionary</td>\n",
       "      <td>2015</td>\n",
       "      <td>Top</td>\n",
       "    </tr>\n",
       "    <tr>\n",
       "      <th>9</th>\n",
       "      <td>0.1238</td>\n",
       "      <td>Consumer Discretionary</td>\n",
       "      <td>2016</td>\n",
       "      <td>Top</td>\n",
       "    </tr>\n",
       "    <tr>\n",
       "      <th>10</th>\n",
       "      <td>0.1444</td>\n",
       "      <td>Consumer Discretionary</td>\n",
       "      <td>2017</td>\n",
       "      <td>Top</td>\n",
       "    </tr>\n",
       "    <tr>\n",
       "      <th>11</th>\n",
       "      <td>0.0367</td>\n",
       "      <td>Consumer Discretionary</td>\n",
       "      <td>2018</td>\n",
       "      <td>Top</td>\n",
       "    </tr>\n",
       "  </tbody>\n",
       "</table>\n",
       "</div>"
      ],
      "text/plain": [
       "    Annual Return                  Sector  Year Portfolio\n",
       "0          0.1013  Consumer Discretionary  2007       Top\n",
       "1          0.0963  Consumer Discretionary  2008       Top\n",
       "2          0.0673  Consumer Discretionary  2009       Top\n",
       "3          0.0699  Consumer Discretionary  2010       Top\n",
       "4          0.1322  Consumer Discretionary  2011       Top\n",
       "5          0.1034  Consumer Discretionary  2012       Top\n",
       "6          0.0326  Consumer Discretionary  2013       Top\n",
       "7          0.0439  Consumer Discretionary  2014       Top\n",
       "8          0.0237  Consumer Discretionary  2015       Top\n",
       "9          0.1238  Consumer Discretionary  2016       Top\n",
       "10         0.1444  Consumer Discretionary  2017       Top\n",
       "11         0.0367  Consumer Discretionary  2018       Top"
      ]
     },
     "execution_count": 4,
     "metadata": {},
     "output_type": "execute_result"
    }
   ],
   "source": [
    "top_csv = Path(\"./top_portfolio_test.csv\")\n",
    "top_df = pd.read_csv(top_csv)\n",
    "top_df"
   ]
  },
  {
   "cell_type": "code",
   "execution_count": 5,
   "metadata": {},
   "outputs": [
    {
     "data": {
      "text/html": [
       "<div>\n",
       "<style scoped>\n",
       "    .dataframe tbody tr th:only-of-type {\n",
       "        vertical-align: middle;\n",
       "    }\n",
       "\n",
       "    .dataframe tbody tr th {\n",
       "        vertical-align: top;\n",
       "    }\n",
       "\n",
       "    .dataframe thead th {\n",
       "        text-align: right;\n",
       "    }\n",
       "</style>\n",
       "<table border=\"1\" class=\"dataframe\">\n",
       "  <thead>\n",
       "    <tr style=\"text-align: right;\">\n",
       "      <th></th>\n",
       "      <th>Communication Services</th>\n",
       "      <th>Consumer Discretionary</th>\n",
       "      <th>Consumer Staples</th>\n",
       "      <th>Energy</th>\n",
       "      <th>Financials</th>\n",
       "      <th>Health Care</th>\n",
       "      <th>Industrials</th>\n",
       "      <th>Information Technology</th>\n",
       "      <th>Materials</th>\n",
       "      <th>Utilities</th>\n",
       "      <th>Year</th>\n",
       "    </tr>\n",
       "    <tr>\n",
       "      <th>Date</th>\n",
       "      <th></th>\n",
       "      <th></th>\n",
       "      <th></th>\n",
       "      <th></th>\n",
       "      <th></th>\n",
       "      <th></th>\n",
       "      <th></th>\n",
       "      <th></th>\n",
       "      <th></th>\n",
       "      <th></th>\n",
       "      <th></th>\n",
       "    </tr>\n",
       "  </thead>\n",
       "  <tbody>\n",
       "    <tr>\n",
       "      <th>4/30/2019</th>\n",
       "      <td>0.063912</td>\n",
       "      <td>0.053800</td>\n",
       "      <td>0.024748</td>\n",
       "      <td>-0.001252</td>\n",
       "      <td>0.085841</td>\n",
       "      <td>-0.027031</td>\n",
       "      <td>0.046559</td>\n",
       "      <td>0.064470</td>\n",
       "      <td>0.031191</td>\n",
       "      <td>0.011862</td>\n",
       "      <td>2019</td>\n",
       "    </tr>\n",
       "    <tr>\n",
       "      <th>5/31/2019</th>\n",
       "      <td>-0.057190</td>\n",
       "      <td>-0.079088</td>\n",
       "      <td>-0.041575</td>\n",
       "      <td>-0.115715</td>\n",
       "      <td>-0.069890</td>\n",
       "      <td>-0.026263</td>\n",
       "      <td>-0.076827</td>\n",
       "      <td>-0.086961</td>\n",
       "      <td>-0.092439</td>\n",
       "      <td>-0.012461</td>\n",
       "      <td>2019</td>\n",
       "    </tr>\n",
       "    <tr>\n",
       "      <th>6/30/2019</th>\n",
       "      <td>0.040305</td>\n",
       "      <td>0.077355</td>\n",
       "      <td>0.051657</td>\n",
       "      <td>0.088266</td>\n",
       "      <td>0.065695</td>\n",
       "      <td>0.070831</td>\n",
       "      <td>0.083045</td>\n",
       "      <td>0.087332</td>\n",
       "      <td>0.119948</td>\n",
       "      <td>0.036577</td>\n",
       "      <td>2019</td>\n",
       "    </tr>\n",
       "    <tr>\n",
       "      <th>7/31/2019</th>\n",
       "      <td>0.035345</td>\n",
       "      <td>0.011088</td>\n",
       "      <td>0.024077</td>\n",
       "      <td>-0.025274</td>\n",
       "      <td>0.023993</td>\n",
       "      <td>-0.013283</td>\n",
       "      <td>0.007480</td>\n",
       "      <td>0.035808</td>\n",
       "      <td>-0.004436</td>\n",
       "      <td>-0.004758</td>\n",
       "      <td>2019</td>\n",
       "    </tr>\n",
       "    <tr>\n",
       "      <th>8/31/2019</th>\n",
       "      <td>-0.017846</td>\n",
       "      <td>-0.016263</td>\n",
       "      <td>0.016144</td>\n",
       "      <td>-0.087495</td>\n",
       "      <td>-0.049324</td>\n",
       "      <td>-0.011349</td>\n",
       "      <td>-0.030729</td>\n",
       "      <td>-0.021318</td>\n",
       "      <td>-0.036237</td>\n",
       "      <td>0.042514</td>\n",
       "      <td>2019</td>\n",
       "    </tr>\n",
       "  </tbody>\n",
       "</table>\n",
       "</div>"
      ],
      "text/plain": [
       "           Communication Services  Consumer Discretionary  Consumer Staples  \\\n",
       "Date                                                                          \n",
       "4/30/2019                0.063912                0.053800          0.024748   \n",
       "5/31/2019               -0.057190               -0.079088         -0.041575   \n",
       "6/30/2019                0.040305                0.077355          0.051657   \n",
       "7/31/2019                0.035345                0.011088          0.024077   \n",
       "8/31/2019               -0.017846               -0.016263          0.016144   \n",
       "\n",
       "             Energy  Financials  Health Care  Industrials  \\\n",
       "Date                                                        \n",
       "4/30/2019 -0.001252    0.085841    -0.027031     0.046559   \n",
       "5/31/2019 -0.115715   -0.069890    -0.026263    -0.076827   \n",
       "6/30/2019  0.088266    0.065695     0.070831     0.083045   \n",
       "7/31/2019 -0.025274    0.023993    -0.013283     0.007480   \n",
       "8/31/2019 -0.087495   -0.049324    -0.011349    -0.030729   \n",
       "\n",
       "           Information Technology  Materials  Utilities  Year  \n",
       "Date                                                           \n",
       "4/30/2019                0.064470   0.031191   0.011862  2019  \n",
       "5/31/2019               -0.086961  -0.092439  -0.012461  2019  \n",
       "6/30/2019                0.087332   0.119948   0.036577  2019  \n",
       "7/31/2019                0.035808  -0.004436  -0.004758  2019  \n",
       "8/31/2019               -0.021318  -0.036237   0.042514  2019  "
      ]
     },
     "execution_count": 5,
     "metadata": {},
     "output_type": "execute_result"
    }
   ],
   "source": [
    "r3k_df['Year'] = pd.DatetimeIndex(r3k_df['Date']).year\n",
    "r3k_df = r3k_df.set_index('Date')\n",
    "r3k_df.tail()"
   ]
  },
  {
   "cell_type": "code",
   "execution_count": 6,
   "metadata": {},
   "outputs": [],
   "source": [
    "for year in range (2007,2019):\n",
    "    year_df = r3k_df[r3k_df['Year']==year]\n",
    "    for column in year_df:\n",
    "        if column != 'Year':\n",
    "            sector_df = year_df[column]\n",
    "            cumulative_returns = (1 + sector_df).cumprod() - 1\n",
    "            one_year = cumulative_returns.tail(1)\n",
    "            one_year = pd.DataFrame(one_year)\n",
    "            one_year = one_year.rename(columns={column:'Annual Return'})\n",
    "            one_year['Sector'] = column\n",
    "            one_year['Year'] = year\n",
    "            annual_returns = pd.concat([annual_returns, one_year], axis=\"rows\", sort=False)\n",
    "\n",
    "\n"
   ]
  },
  {
   "cell_type": "code",
   "execution_count": 7,
   "metadata": {},
   "outputs": [
    {
     "data": {
      "text/html": [
       "<div>\n",
       "<style scoped>\n",
       "    .dataframe tbody tr th:only-of-type {\n",
       "        vertical-align: middle;\n",
       "    }\n",
       "\n",
       "    .dataframe tbody tr th {\n",
       "        vertical-align: top;\n",
       "    }\n",
       "\n",
       "    .dataframe thead th {\n",
       "        text-align: right;\n",
       "    }\n",
       "</style>\n",
       "<table border=\"1\" class=\"dataframe\">\n",
       "  <thead>\n",
       "    <tr style=\"text-align: right;\">\n",
       "      <th></th>\n",
       "      <th>Annual Return</th>\n",
       "      <th>Sector</th>\n",
       "      <th>Year</th>\n",
       "    </tr>\n",
       "  </thead>\n",
       "  <tbody>\n",
       "    <tr>\n",
       "      <th>0</th>\n",
       "      <td>0.100082</td>\n",
       "      <td>Communication Services</td>\n",
       "      <td>2007</td>\n",
       "    </tr>\n",
       "    <tr>\n",
       "      <th>1</th>\n",
       "      <td>-0.116690</td>\n",
       "      <td>Consumer Discretionary</td>\n",
       "      <td>2007</td>\n",
       "    </tr>\n",
       "    <tr>\n",
       "      <th>2</th>\n",
       "      <td>0.141322</td>\n",
       "      <td>Consumer Staples</td>\n",
       "      <td>2007</td>\n",
       "    </tr>\n",
       "    <tr>\n",
       "      <th>3</th>\n",
       "      <td>0.319712</td>\n",
       "      <td>Energy</td>\n",
       "      <td>2007</td>\n",
       "    </tr>\n",
       "    <tr>\n",
       "      <th>4</th>\n",
       "      <td>-0.178250</td>\n",
       "      <td>Financials</td>\n",
       "      <td>2007</td>\n",
       "    </tr>\n",
       "  </tbody>\n",
       "</table>\n",
       "</div>"
      ],
      "text/plain": [
       "   Annual Return                  Sector  Year\n",
       "0       0.100082  Communication Services  2007\n",
       "1      -0.116690  Consumer Discretionary  2007\n",
       "2       0.141322        Consumer Staples  2007\n",
       "3       0.319712                  Energy  2007\n",
       "4      -0.178250              Financials  2007"
      ]
     },
     "execution_count": 7,
     "metadata": {},
     "output_type": "execute_result"
    }
   ],
   "source": [
    "annual_returns = annual_returns.reset_index(drop=True)\n",
    "annual_returns.head()"
   ]
  },
  {
   "cell_type": "code",
   "execution_count": 8,
   "metadata": {},
   "outputs": [
    {
     "data": {
      "text/html": [
       "<div>\n",
       "<style scoped>\n",
       "    .dataframe tbody tr th:only-of-type {\n",
       "        vertical-align: middle;\n",
       "    }\n",
       "\n",
       "    .dataframe tbody tr th {\n",
       "        vertical-align: top;\n",
       "    }\n",
       "\n",
       "    .dataframe thead th {\n",
       "        text-align: right;\n",
       "    }\n",
       "</style>\n",
       "<table border=\"1\" class=\"dataframe\">\n",
       "  <thead>\n",
       "    <tr style=\"text-align: right;\">\n",
       "      <th></th>\n",
       "      <th>Annual Return</th>\n",
       "      <th>Sector</th>\n",
       "      <th>Year</th>\n",
       "      <th>Portfolio</th>\n",
       "    </tr>\n",
       "  </thead>\n",
       "  <tbody>\n",
       "    <tr>\n",
       "      <th>0</th>\n",
       "      <td>0.100082</td>\n",
       "      <td>Communication Services</td>\n",
       "      <td>2007</td>\n",
       "      <td>Index</td>\n",
       "    </tr>\n",
       "    <tr>\n",
       "      <th>1</th>\n",
       "      <td>-0.116690</td>\n",
       "      <td>Consumer Discretionary</td>\n",
       "      <td>2007</td>\n",
       "      <td>Index</td>\n",
       "    </tr>\n",
       "    <tr>\n",
       "      <th>2</th>\n",
       "      <td>0.141322</td>\n",
       "      <td>Consumer Staples</td>\n",
       "      <td>2007</td>\n",
       "      <td>Index</td>\n",
       "    </tr>\n",
       "    <tr>\n",
       "      <th>3</th>\n",
       "      <td>0.319712</td>\n",
       "      <td>Energy</td>\n",
       "      <td>2007</td>\n",
       "      <td>Index</td>\n",
       "    </tr>\n",
       "    <tr>\n",
       "      <th>4</th>\n",
       "      <td>-0.178250</td>\n",
       "      <td>Financials</td>\n",
       "      <td>2007</td>\n",
       "      <td>Index</td>\n",
       "    </tr>\n",
       "  </tbody>\n",
       "</table>\n",
       "</div>"
      ],
      "text/plain": [
       "   Annual Return                  Sector  Year Portfolio\n",
       "0       0.100082  Communication Services  2007     Index\n",
       "1      -0.116690  Consumer Discretionary  2007     Index\n",
       "2       0.141322        Consumer Staples  2007     Index\n",
       "3       0.319712                  Energy  2007     Index\n",
       "4      -0.178250              Financials  2007     Index"
      ]
     },
     "execution_count": 8,
     "metadata": {},
     "output_type": "execute_result"
    }
   ],
   "source": [
    "annual_returns['Portfolio']='Index'\n",
    "annual_returns.head()"
   ]
  },
  {
   "cell_type": "code",
   "execution_count": 9,
   "metadata": {},
   "outputs": [
    {
     "data": {
      "text/html": [
       "<div>\n",
       "<style scoped>\n",
       "    .dataframe tbody tr th:only-of-type {\n",
       "        vertical-align: middle;\n",
       "    }\n",
       "\n",
       "    .dataframe tbody tr th {\n",
       "        vertical-align: top;\n",
       "    }\n",
       "\n",
       "    .dataframe thead th {\n",
       "        text-align: right;\n",
       "    }\n",
       "</style>\n",
       "<table border=\"1\" class=\"dataframe\">\n",
       "  <thead>\n",
       "    <tr style=\"text-align: right;\">\n",
       "      <th></th>\n",
       "      <th>Annual Return</th>\n",
       "      <th>Sector</th>\n",
       "      <th>Year</th>\n",
       "      <th>Portfolio</th>\n",
       "    </tr>\n",
       "  </thead>\n",
       "  <tbody>\n",
       "    <tr>\n",
       "      <th>0</th>\n",
       "      <td>0.100082</td>\n",
       "      <td>Communication Services</td>\n",
       "      <td>2007</td>\n",
       "      <td>Index</td>\n",
       "    </tr>\n",
       "    <tr>\n",
       "      <th>1</th>\n",
       "      <td>-0.116690</td>\n",
       "      <td>Consumer Discretionary</td>\n",
       "      <td>2007</td>\n",
       "      <td>Index</td>\n",
       "    </tr>\n",
       "    <tr>\n",
       "      <th>2</th>\n",
       "      <td>0.141322</td>\n",
       "      <td>Consumer Staples</td>\n",
       "      <td>2007</td>\n",
       "      <td>Index</td>\n",
       "    </tr>\n",
       "    <tr>\n",
       "      <th>3</th>\n",
       "      <td>0.319712</td>\n",
       "      <td>Energy</td>\n",
       "      <td>2007</td>\n",
       "      <td>Index</td>\n",
       "    </tr>\n",
       "    <tr>\n",
       "      <th>4</th>\n",
       "      <td>-0.178250</td>\n",
       "      <td>Financials</td>\n",
       "      <td>2007</td>\n",
       "      <td>Index</td>\n",
       "    </tr>\n",
       "    <tr>\n",
       "      <th>5</th>\n",
       "      <td>0.078668</td>\n",
       "      <td>Health Care</td>\n",
       "      <td>2007</td>\n",
       "      <td>Index</td>\n",
       "    </tr>\n",
       "    <tr>\n",
       "      <th>6</th>\n",
       "      <td>0.123290</td>\n",
       "      <td>Industrials</td>\n",
       "      <td>2007</td>\n",
       "      <td>Index</td>\n",
       "    </tr>\n",
       "    <tr>\n",
       "      <th>7</th>\n",
       "      <td>0.151293</td>\n",
       "      <td>Information Technology</td>\n",
       "      <td>2007</td>\n",
       "      <td>Index</td>\n",
       "    </tr>\n",
       "    <tr>\n",
       "      <th>8</th>\n",
       "      <td>0.263331</td>\n",
       "      <td>Materials</td>\n",
       "      <td>2007</td>\n",
       "      <td>Index</td>\n",
       "    </tr>\n",
       "    <tr>\n",
       "      <th>9</th>\n",
       "      <td>0.175534</td>\n",
       "      <td>Utilities</td>\n",
       "      <td>2007</td>\n",
       "      <td>Index</td>\n",
       "    </tr>\n",
       "    <tr>\n",
       "      <th>10</th>\n",
       "      <td>-0.333180</td>\n",
       "      <td>Communication Services</td>\n",
       "      <td>2008</td>\n",
       "      <td>Index</td>\n",
       "    </tr>\n",
       "    <tr>\n",
       "      <th>11</th>\n",
       "      <td>-0.386964</td>\n",
       "      <td>Consumer Discretionary</td>\n",
       "      <td>2008</td>\n",
       "      <td>Index</td>\n",
       "    </tr>\n",
       "    <tr>\n",
       "      <th>12</th>\n",
       "      <td>-0.165358</td>\n",
       "      <td>Consumer Staples</td>\n",
       "      <td>2008</td>\n",
       "      <td>Index</td>\n",
       "    </tr>\n",
       "    <tr>\n",
       "      <th>13</th>\n",
       "      <td>-0.372130</td>\n",
       "      <td>Energy</td>\n",
       "      <td>2008</td>\n",
       "      <td>Index</td>\n",
       "    </tr>\n",
       "    <tr>\n",
       "      <th>14</th>\n",
       "      <td>-0.498401</td>\n",
       "      <td>Financials</td>\n",
       "      <td>2008</td>\n",
       "      <td>Index</td>\n",
       "    </tr>\n",
       "    <tr>\n",
       "      <th>15</th>\n",
       "      <td>-0.234390</td>\n",
       "      <td>Health Care</td>\n",
       "      <td>2008</td>\n",
       "      <td>Index</td>\n",
       "    </tr>\n",
       "    <tr>\n",
       "      <th>16</th>\n",
       "      <td>-0.397615</td>\n",
       "      <td>Industrials</td>\n",
       "      <td>2008</td>\n",
       "      <td>Index</td>\n",
       "    </tr>\n",
       "    <tr>\n",
       "      <th>17</th>\n",
       "      <td>-0.428643</td>\n",
       "      <td>Information Technology</td>\n",
       "      <td>2008</td>\n",
       "      <td>Index</td>\n",
       "    </tr>\n",
       "    <tr>\n",
       "      <th>18</th>\n",
       "      <td>-0.467540</td>\n",
       "      <td>Materials</td>\n",
       "      <td>2008</td>\n",
       "      <td>Index</td>\n",
       "    </tr>\n",
       "    <tr>\n",
       "      <th>19</th>\n",
       "      <td>-0.284759</td>\n",
       "      <td>Utilities</td>\n",
       "      <td>2008</td>\n",
       "      <td>Index</td>\n",
       "    </tr>\n",
       "    <tr>\n",
       "      <th>20</th>\n",
       "      <td>0.127192</td>\n",
       "      <td>Communication Services</td>\n",
       "      <td>2009</td>\n",
       "      <td>Index</td>\n",
       "    </tr>\n",
       "    <tr>\n",
       "      <th>21</th>\n",
       "      <td>0.466376</td>\n",
       "      <td>Consumer Discretionary</td>\n",
       "      <td>2009</td>\n",
       "      <td>Index</td>\n",
       "    </tr>\n",
       "    <tr>\n",
       "      <th>22</th>\n",
       "      <td>0.157036</td>\n",
       "      <td>Consumer Staples</td>\n",
       "      <td>2009</td>\n",
       "      <td>Index</td>\n",
       "    </tr>\n",
       "    <tr>\n",
       "      <th>23</th>\n",
       "      <td>0.179100</td>\n",
       "      <td>Energy</td>\n",
       "      <td>2009</td>\n",
       "      <td>Index</td>\n",
       "    </tr>\n",
       "    <tr>\n",
       "      <th>24</th>\n",
       "      <td>0.144405</td>\n",
       "      <td>Financials</td>\n",
       "      <td>2009</td>\n",
       "      <td>Index</td>\n",
       "    </tr>\n",
       "    <tr>\n",
       "      <th>25</th>\n",
       "      <td>0.218293</td>\n",
       "      <td>Health Care</td>\n",
       "      <td>2009</td>\n",
       "      <td>Index</td>\n",
       "    </tr>\n",
       "    <tr>\n",
       "      <th>26</th>\n",
       "      <td>0.218114</td>\n",
       "      <td>Industrials</td>\n",
       "      <td>2009</td>\n",
       "      <td>Index</td>\n",
       "    </tr>\n",
       "    <tr>\n",
       "      <th>27</th>\n",
       "      <td>0.617853</td>\n",
       "      <td>Information Technology</td>\n",
       "      <td>2009</td>\n",
       "      <td>Index</td>\n",
       "    </tr>\n",
       "    <tr>\n",
       "      <th>28</th>\n",
       "      <td>0.532234</td>\n",
       "      <td>Materials</td>\n",
       "      <td>2009</td>\n",
       "      <td>Index</td>\n",
       "    </tr>\n",
       "    <tr>\n",
       "      <th>29</th>\n",
       "      <td>0.125084</td>\n",
       "      <td>Utilities</td>\n",
       "      <td>2009</td>\n",
       "      <td>Index</td>\n",
       "    </tr>\n",
       "    <tr>\n",
       "      <th>...</th>\n",
       "      <td>...</td>\n",
       "      <td>...</td>\n",
       "      <td>...</td>\n",
       "      <td>...</td>\n",
       "    </tr>\n",
       "    <tr>\n",
       "      <th>102</th>\n",
       "      <td>0.126755</td>\n",
       "      <td>Consumer Staples</td>\n",
       "      <td>2017</td>\n",
       "      <td>Index</td>\n",
       "    </tr>\n",
       "    <tr>\n",
       "      <th>103</th>\n",
       "      <td>-0.020645</td>\n",
       "      <td>Energy</td>\n",
       "      <td>2017</td>\n",
       "      <td>Index</td>\n",
       "    </tr>\n",
       "    <tr>\n",
       "      <th>104</th>\n",
       "      <td>0.200701</td>\n",
       "      <td>Financials</td>\n",
       "      <td>2017</td>\n",
       "      <td>Index</td>\n",
       "    </tr>\n",
       "    <tr>\n",
       "      <th>105</th>\n",
       "      <td>0.232589</td>\n",
       "      <td>Health Care</td>\n",
       "      <td>2017</td>\n",
       "      <td>Index</td>\n",
       "    </tr>\n",
       "    <tr>\n",
       "      <th>106</th>\n",
       "      <td>0.214059</td>\n",
       "      <td>Industrials</td>\n",
       "      <td>2017</td>\n",
       "      <td>Index</td>\n",
       "    </tr>\n",
       "    <tr>\n",
       "      <th>107</th>\n",
       "      <td>0.370433</td>\n",
       "      <td>Information Technology</td>\n",
       "      <td>2017</td>\n",
       "      <td>Index</td>\n",
       "    </tr>\n",
       "    <tr>\n",
       "      <th>108</th>\n",
       "      <td>0.233477</td>\n",
       "      <td>Materials</td>\n",
       "      <td>2017</td>\n",
       "      <td>Index</td>\n",
       "    </tr>\n",
       "    <tr>\n",
       "      <th>109</th>\n",
       "      <td>0.125067</td>\n",
       "      <td>Utilities</td>\n",
       "      <td>2017</td>\n",
       "      <td>Index</td>\n",
       "    </tr>\n",
       "    <tr>\n",
       "      <th>110</th>\n",
       "      <td>-0.138420</td>\n",
       "      <td>Communication Services</td>\n",
       "      <td>2018</td>\n",
       "      <td>Index</td>\n",
       "    </tr>\n",
       "    <tr>\n",
       "      <th>111</th>\n",
       "      <td>-0.018293</td>\n",
       "      <td>Consumer Discretionary</td>\n",
       "      <td>2018</td>\n",
       "      <td>Index</td>\n",
       "    </tr>\n",
       "    <tr>\n",
       "      <th>112</th>\n",
       "      <td>-0.082773</td>\n",
       "      <td>Consumer Staples</td>\n",
       "      <td>2018</td>\n",
       "      <td>Index</td>\n",
       "    </tr>\n",
       "    <tr>\n",
       "      <th>113</th>\n",
       "      <td>-0.198525</td>\n",
       "      <td>Energy</td>\n",
       "      <td>2018</td>\n",
       "      <td>Index</td>\n",
       "    </tr>\n",
       "    <tr>\n",
       "      <th>114</th>\n",
       "      <td>-0.128128</td>\n",
       "      <td>Financials</td>\n",
       "      <td>2018</td>\n",
       "      <td>Index</td>\n",
       "    </tr>\n",
       "    <tr>\n",
       "      <th>115</th>\n",
       "      <td>0.053288</td>\n",
       "      <td>Health Care</td>\n",
       "      <td>2018</td>\n",
       "      <td>Index</td>\n",
       "    </tr>\n",
       "    <tr>\n",
       "      <th>116</th>\n",
       "      <td>-0.141158</td>\n",
       "      <td>Industrials</td>\n",
       "      <td>2018</td>\n",
       "      <td>Index</td>\n",
       "    </tr>\n",
       "    <tr>\n",
       "      <th>117</th>\n",
       "      <td>0.004713</td>\n",
       "      <td>Information Technology</td>\n",
       "      <td>2018</td>\n",
       "      <td>Index</td>\n",
       "    </tr>\n",
       "    <tr>\n",
       "      <th>118</th>\n",
       "      <td>-0.173647</td>\n",
       "      <td>Materials</td>\n",
       "      <td>2018</td>\n",
       "      <td>Index</td>\n",
       "    </tr>\n",
       "    <tr>\n",
       "      <th>119</th>\n",
       "      <td>0.045044</td>\n",
       "      <td>Utilities</td>\n",
       "      <td>2018</td>\n",
       "      <td>Index</td>\n",
       "    </tr>\n",
       "    <tr>\n",
       "      <th>120</th>\n",
       "      <td>0.101300</td>\n",
       "      <td>Consumer Discretionary</td>\n",
       "      <td>2007</td>\n",
       "      <td>Top</td>\n",
       "    </tr>\n",
       "    <tr>\n",
       "      <th>121</th>\n",
       "      <td>0.096300</td>\n",
       "      <td>Consumer Discretionary</td>\n",
       "      <td>2008</td>\n",
       "      <td>Top</td>\n",
       "    </tr>\n",
       "    <tr>\n",
       "      <th>122</th>\n",
       "      <td>0.067300</td>\n",
       "      <td>Consumer Discretionary</td>\n",
       "      <td>2009</td>\n",
       "      <td>Top</td>\n",
       "    </tr>\n",
       "    <tr>\n",
       "      <th>123</th>\n",
       "      <td>0.069900</td>\n",
       "      <td>Consumer Discretionary</td>\n",
       "      <td>2010</td>\n",
       "      <td>Top</td>\n",
       "    </tr>\n",
       "    <tr>\n",
       "      <th>124</th>\n",
       "      <td>0.132200</td>\n",
       "      <td>Consumer Discretionary</td>\n",
       "      <td>2011</td>\n",
       "      <td>Top</td>\n",
       "    </tr>\n",
       "    <tr>\n",
       "      <th>125</th>\n",
       "      <td>0.103400</td>\n",
       "      <td>Consumer Discretionary</td>\n",
       "      <td>2012</td>\n",
       "      <td>Top</td>\n",
       "    </tr>\n",
       "    <tr>\n",
       "      <th>126</th>\n",
       "      <td>0.032600</td>\n",
       "      <td>Consumer Discretionary</td>\n",
       "      <td>2013</td>\n",
       "      <td>Top</td>\n",
       "    </tr>\n",
       "    <tr>\n",
       "      <th>127</th>\n",
       "      <td>0.043900</td>\n",
       "      <td>Consumer Discretionary</td>\n",
       "      <td>2014</td>\n",
       "      <td>Top</td>\n",
       "    </tr>\n",
       "    <tr>\n",
       "      <th>128</th>\n",
       "      <td>0.023700</td>\n",
       "      <td>Consumer Discretionary</td>\n",
       "      <td>2015</td>\n",
       "      <td>Top</td>\n",
       "    </tr>\n",
       "    <tr>\n",
       "      <th>129</th>\n",
       "      <td>0.123800</td>\n",
       "      <td>Consumer Discretionary</td>\n",
       "      <td>2016</td>\n",
       "      <td>Top</td>\n",
       "    </tr>\n",
       "    <tr>\n",
       "      <th>130</th>\n",
       "      <td>0.144400</td>\n",
       "      <td>Consumer Discretionary</td>\n",
       "      <td>2017</td>\n",
       "      <td>Top</td>\n",
       "    </tr>\n",
       "    <tr>\n",
       "      <th>131</th>\n",
       "      <td>0.036700</td>\n",
       "      <td>Consumer Discretionary</td>\n",
       "      <td>2018</td>\n",
       "      <td>Top</td>\n",
       "    </tr>\n",
       "  </tbody>\n",
       "</table>\n",
       "<p>132 rows × 4 columns</p>\n",
       "</div>"
      ],
      "text/plain": [
       "     Annual Return                  Sector  Year Portfolio\n",
       "0         0.100082  Communication Services  2007     Index\n",
       "1        -0.116690  Consumer Discretionary  2007     Index\n",
       "2         0.141322        Consumer Staples  2007     Index\n",
       "3         0.319712                  Energy  2007     Index\n",
       "4        -0.178250              Financials  2007     Index\n",
       "5         0.078668             Health Care  2007     Index\n",
       "6         0.123290             Industrials  2007     Index\n",
       "7         0.151293  Information Technology  2007     Index\n",
       "8         0.263331               Materials  2007     Index\n",
       "9         0.175534               Utilities  2007     Index\n",
       "10       -0.333180  Communication Services  2008     Index\n",
       "11       -0.386964  Consumer Discretionary  2008     Index\n",
       "12       -0.165358        Consumer Staples  2008     Index\n",
       "13       -0.372130                  Energy  2008     Index\n",
       "14       -0.498401              Financials  2008     Index\n",
       "15       -0.234390             Health Care  2008     Index\n",
       "16       -0.397615             Industrials  2008     Index\n",
       "17       -0.428643  Information Technology  2008     Index\n",
       "18       -0.467540               Materials  2008     Index\n",
       "19       -0.284759               Utilities  2008     Index\n",
       "20        0.127192  Communication Services  2009     Index\n",
       "21        0.466376  Consumer Discretionary  2009     Index\n",
       "22        0.157036        Consumer Staples  2009     Index\n",
       "23        0.179100                  Energy  2009     Index\n",
       "24        0.144405              Financials  2009     Index\n",
       "25        0.218293             Health Care  2009     Index\n",
       "26        0.218114             Industrials  2009     Index\n",
       "27        0.617853  Information Technology  2009     Index\n",
       "28        0.532234               Materials  2009     Index\n",
       "29        0.125084               Utilities  2009     Index\n",
       "..             ...                     ...   ...       ...\n",
       "102       0.126755        Consumer Staples  2017     Index\n",
       "103      -0.020645                  Energy  2017     Index\n",
       "104       0.200701              Financials  2017     Index\n",
       "105       0.232589             Health Care  2017     Index\n",
       "106       0.214059             Industrials  2017     Index\n",
       "107       0.370433  Information Technology  2017     Index\n",
       "108       0.233477               Materials  2017     Index\n",
       "109       0.125067               Utilities  2017     Index\n",
       "110      -0.138420  Communication Services  2018     Index\n",
       "111      -0.018293  Consumer Discretionary  2018     Index\n",
       "112      -0.082773        Consumer Staples  2018     Index\n",
       "113      -0.198525                  Energy  2018     Index\n",
       "114      -0.128128              Financials  2018     Index\n",
       "115       0.053288             Health Care  2018     Index\n",
       "116      -0.141158             Industrials  2018     Index\n",
       "117       0.004713  Information Technology  2018     Index\n",
       "118      -0.173647               Materials  2018     Index\n",
       "119       0.045044               Utilities  2018     Index\n",
       "120       0.101300  Consumer Discretionary  2007       Top\n",
       "121       0.096300  Consumer Discretionary  2008       Top\n",
       "122       0.067300  Consumer Discretionary  2009       Top\n",
       "123       0.069900  Consumer Discretionary  2010       Top\n",
       "124       0.132200  Consumer Discretionary  2011       Top\n",
       "125       0.103400  Consumer Discretionary  2012       Top\n",
       "126       0.032600  Consumer Discretionary  2013       Top\n",
       "127       0.043900  Consumer Discretionary  2014       Top\n",
       "128       0.023700  Consumer Discretionary  2015       Top\n",
       "129       0.123800  Consumer Discretionary  2016       Top\n",
       "130       0.144400  Consumer Discretionary  2017       Top\n",
       "131       0.036700  Consumer Discretionary  2018       Top\n",
       "\n",
       "[132 rows x 4 columns]"
      ]
     },
     "execution_count": 9,
     "metadata": {},
     "output_type": "execute_result"
    }
   ],
   "source": [
    "annual_returns = pd.concat([annual_returns, top_df], axis=\"rows\", sort=False)\n",
    "annual_returns = annual_returns.reset_index(drop=True)\n",
    "annual_returns"
   ]
  },
  {
   "cell_type": "code",
   "execution_count": 10,
   "metadata": {},
   "outputs": [
    {
     "data": {
      "text/html": [
       "<div>\n",
       "<style scoped>\n",
       "    .dataframe tbody tr th:only-of-type {\n",
       "        vertical-align: middle;\n",
       "    }\n",
       "\n",
       "    .dataframe tbody tr th {\n",
       "        vertical-align: top;\n",
       "    }\n",
       "\n",
       "    .dataframe thead th {\n",
       "        text-align: right;\n",
       "    }\n",
       "</style>\n",
       "<table border=\"1\" class=\"dataframe\">\n",
       "  <thead>\n",
       "    <tr style=\"text-align: right;\">\n",
       "      <th></th>\n",
       "      <th>Annual Return</th>\n",
       "      <th>Sector</th>\n",
       "      <th>Year</th>\n",
       "      <th>Portfolio</th>\n",
       "    </tr>\n",
       "  </thead>\n",
       "  <tbody>\n",
       "    <tr>\n",
       "      <th>1</th>\n",
       "      <td>-0.116690</td>\n",
       "      <td>Consumer Discretionary</td>\n",
       "      <td>2007</td>\n",
       "      <td>Index</td>\n",
       "    </tr>\n",
       "    <tr>\n",
       "      <th>11</th>\n",
       "      <td>-0.386964</td>\n",
       "      <td>Consumer Discretionary</td>\n",
       "      <td>2008</td>\n",
       "      <td>Index</td>\n",
       "    </tr>\n",
       "    <tr>\n",
       "      <th>21</th>\n",
       "      <td>0.466376</td>\n",
       "      <td>Consumer Discretionary</td>\n",
       "      <td>2009</td>\n",
       "      <td>Index</td>\n",
       "    </tr>\n",
       "    <tr>\n",
       "      <th>31</th>\n",
       "      <td>0.301419</td>\n",
       "      <td>Consumer Discretionary</td>\n",
       "      <td>2010</td>\n",
       "      <td>Index</td>\n",
       "    </tr>\n",
       "    <tr>\n",
       "      <th>41</th>\n",
       "      <td>0.034449</td>\n",
       "      <td>Consumer Discretionary</td>\n",
       "      <td>2011</td>\n",
       "      <td>Index</td>\n",
       "    </tr>\n",
       "    <tr>\n",
       "      <th>51</th>\n",
       "      <td>0.247561</td>\n",
       "      <td>Consumer Discretionary</td>\n",
       "      <td>2012</td>\n",
       "      <td>Index</td>\n",
       "    </tr>\n",
       "    <tr>\n",
       "      <th>61</th>\n",
       "      <td>0.444878</td>\n",
       "      <td>Consumer Discretionary</td>\n",
       "      <td>2013</td>\n",
       "      <td>Index</td>\n",
       "    </tr>\n",
       "    <tr>\n",
       "      <th>71</th>\n",
       "      <td>0.091848</td>\n",
       "      <td>Consumer Discretionary</td>\n",
       "      <td>2014</td>\n",
       "      <td>Index</td>\n",
       "    </tr>\n",
       "    <tr>\n",
       "      <th>81</th>\n",
       "      <td>0.060373</td>\n",
       "      <td>Consumer Discretionary</td>\n",
       "      <td>2015</td>\n",
       "      <td>Index</td>\n",
       "    </tr>\n",
       "    <tr>\n",
       "      <th>91</th>\n",
       "      <td>0.070985</td>\n",
       "      <td>Consumer Discretionary</td>\n",
       "      <td>2016</td>\n",
       "      <td>Index</td>\n",
       "    </tr>\n",
       "    <tr>\n",
       "      <th>101</th>\n",
       "      <td>0.228180</td>\n",
       "      <td>Consumer Discretionary</td>\n",
       "      <td>2017</td>\n",
       "      <td>Index</td>\n",
       "    </tr>\n",
       "    <tr>\n",
       "      <th>111</th>\n",
       "      <td>-0.018293</td>\n",
       "      <td>Consumer Discretionary</td>\n",
       "      <td>2018</td>\n",
       "      <td>Index</td>\n",
       "    </tr>\n",
       "    <tr>\n",
       "      <th>120</th>\n",
       "      <td>0.101300</td>\n",
       "      <td>Consumer Discretionary</td>\n",
       "      <td>2007</td>\n",
       "      <td>Top</td>\n",
       "    </tr>\n",
       "    <tr>\n",
       "      <th>121</th>\n",
       "      <td>0.096300</td>\n",
       "      <td>Consumer Discretionary</td>\n",
       "      <td>2008</td>\n",
       "      <td>Top</td>\n",
       "    </tr>\n",
       "    <tr>\n",
       "      <th>122</th>\n",
       "      <td>0.067300</td>\n",
       "      <td>Consumer Discretionary</td>\n",
       "      <td>2009</td>\n",
       "      <td>Top</td>\n",
       "    </tr>\n",
       "    <tr>\n",
       "      <th>123</th>\n",
       "      <td>0.069900</td>\n",
       "      <td>Consumer Discretionary</td>\n",
       "      <td>2010</td>\n",
       "      <td>Top</td>\n",
       "    </tr>\n",
       "    <tr>\n",
       "      <th>124</th>\n",
       "      <td>0.132200</td>\n",
       "      <td>Consumer Discretionary</td>\n",
       "      <td>2011</td>\n",
       "      <td>Top</td>\n",
       "    </tr>\n",
       "    <tr>\n",
       "      <th>125</th>\n",
       "      <td>0.103400</td>\n",
       "      <td>Consumer Discretionary</td>\n",
       "      <td>2012</td>\n",
       "      <td>Top</td>\n",
       "    </tr>\n",
       "    <tr>\n",
       "      <th>126</th>\n",
       "      <td>0.032600</td>\n",
       "      <td>Consumer Discretionary</td>\n",
       "      <td>2013</td>\n",
       "      <td>Top</td>\n",
       "    </tr>\n",
       "    <tr>\n",
       "      <th>127</th>\n",
       "      <td>0.043900</td>\n",
       "      <td>Consumer Discretionary</td>\n",
       "      <td>2014</td>\n",
       "      <td>Top</td>\n",
       "    </tr>\n",
       "    <tr>\n",
       "      <th>128</th>\n",
       "      <td>0.023700</td>\n",
       "      <td>Consumer Discretionary</td>\n",
       "      <td>2015</td>\n",
       "      <td>Top</td>\n",
       "    </tr>\n",
       "    <tr>\n",
       "      <th>129</th>\n",
       "      <td>0.123800</td>\n",
       "      <td>Consumer Discretionary</td>\n",
       "      <td>2016</td>\n",
       "      <td>Top</td>\n",
       "    </tr>\n",
       "    <tr>\n",
       "      <th>130</th>\n",
       "      <td>0.144400</td>\n",
       "      <td>Consumer Discretionary</td>\n",
       "      <td>2017</td>\n",
       "      <td>Top</td>\n",
       "    </tr>\n",
       "    <tr>\n",
       "      <th>131</th>\n",
       "      <td>0.036700</td>\n",
       "      <td>Consumer Discretionary</td>\n",
       "      <td>2018</td>\n",
       "      <td>Top</td>\n",
       "    </tr>\n",
       "  </tbody>\n",
       "</table>\n",
       "</div>"
      ],
      "text/plain": [
       "     Annual Return                  Sector  Year Portfolio\n",
       "1        -0.116690  Consumer Discretionary  2007     Index\n",
       "11       -0.386964  Consumer Discretionary  2008     Index\n",
       "21        0.466376  Consumer Discretionary  2009     Index\n",
       "31        0.301419  Consumer Discretionary  2010     Index\n",
       "41        0.034449  Consumer Discretionary  2011     Index\n",
       "51        0.247561  Consumer Discretionary  2012     Index\n",
       "61        0.444878  Consumer Discretionary  2013     Index\n",
       "71        0.091848  Consumer Discretionary  2014     Index\n",
       "81        0.060373  Consumer Discretionary  2015     Index\n",
       "91        0.070985  Consumer Discretionary  2016     Index\n",
       "101       0.228180  Consumer Discretionary  2017     Index\n",
       "111      -0.018293  Consumer Discretionary  2018     Index\n",
       "120       0.101300  Consumer Discretionary  2007       Top\n",
       "121       0.096300  Consumer Discretionary  2008       Top\n",
       "122       0.067300  Consumer Discretionary  2009       Top\n",
       "123       0.069900  Consumer Discretionary  2010       Top\n",
       "124       0.132200  Consumer Discretionary  2011       Top\n",
       "125       0.103400  Consumer Discretionary  2012       Top\n",
       "126       0.032600  Consumer Discretionary  2013       Top\n",
       "127       0.043900  Consumer Discretionary  2014       Top\n",
       "128       0.023700  Consumer Discretionary  2015       Top\n",
       "129       0.123800  Consumer Discretionary  2016       Top\n",
       "130       0.144400  Consumer Discretionary  2017       Top\n",
       "131       0.036700  Consumer Discretionary  2018       Top"
      ]
     },
     "execution_count": 10,
     "metadata": {},
     "output_type": "execute_result"
    }
   ],
   "source": [
    "cd_df = annual_returns[annual_returns['Sector']==\"Consumer Discretionary\"]\n",
    "cd_df"
   ]
  },
  {
   "cell_type": "code",
   "execution_count": 17,
   "metadata": {},
   "outputs": [
    {
     "data": {
      "application/vnd.plotly.v1+json": {
       "config": {
        "plotlyServerURL": "https://plot.ly"
       },
       "data": [
        {
         "alignmentgroup": "True",
         "hoverlabel": {
          "namelength": 0
         },
         "hovertemplate": "Portfolio=Index<br>Year=%{x}<br>Annual Return=%{y}",
         "legendgroup": "Portfolio=Index",
         "marker": {
          "color": "#636efa"
         },
         "name": "Portfolio=Index",
         "offsetgroup": "Portfolio=Index",
         "orientation": "v",
         "showlegend": true,
         "textposition": "auto",
         "type": "bar",
         "x": [
          2007,
          2008,
          2009,
          2010,
          2011,
          2012,
          2013,
          2014,
          2015,
          2016,
          2017,
          2018
         ],
         "xaxis": "x",
         "y": [
          -0.11669039244493418,
          -0.38696415055554667,
          0.46637615263845955,
          0.30141919047258314,
          0.034448732982163666,
          0.24756140382827496,
          0.4448776627608997,
          0.09184809128801774,
          0.060372950971157247,
          0.07098521862827045,
          0.22818020138212058,
          -0.018292663686772626
         ],
         "yaxis": "y"
        },
        {
         "alignmentgroup": "True",
         "hoverlabel": {
          "namelength": 0
         },
         "hovertemplate": "Portfolio=Top<br>Year=%{x}<br>Annual Return=%{y}",
         "legendgroup": "Portfolio=Top",
         "marker": {
          "color": "#EF553B"
         },
         "name": "Portfolio=Top",
         "offsetgroup": "Portfolio=Top",
         "orientation": "v",
         "showlegend": true,
         "textposition": "auto",
         "type": "bar",
         "x": [
          2007,
          2008,
          2009,
          2010,
          2011,
          2012,
          2013,
          2014,
          2015,
          2016,
          2017,
          2018
         ],
         "xaxis": "x",
         "y": [
          0.1013,
          0.0963,
          0.0673,
          0.0699,
          0.1322,
          0.1034,
          0.0326,
          0.0439,
          0.0237,
          0.1238,
          0.1444,
          0.0367
         ],
         "yaxis": "y"
        }
       ],
       "layout": {
        "barmode": "group",
        "height": 600,
        "legend": {
         "tracegroupgap": 0
        },
        "margin": {
         "t": 60
        },
        "template": {
         "data": {
          "bar": [
           {
            "error_x": {
             "color": "#2a3f5f"
            },
            "error_y": {
             "color": "#2a3f5f"
            },
            "marker": {
             "line": {
              "color": "#E5ECF6",
              "width": 0.5
             }
            },
            "type": "bar"
           }
          ],
          "barpolar": [
           {
            "marker": {
             "line": {
              "color": "#E5ECF6",
              "width": 0.5
             }
            },
            "type": "barpolar"
           }
          ],
          "carpet": [
           {
            "aaxis": {
             "endlinecolor": "#2a3f5f",
             "gridcolor": "white",
             "linecolor": "white",
             "minorgridcolor": "white",
             "startlinecolor": "#2a3f5f"
            },
            "baxis": {
             "endlinecolor": "#2a3f5f",
             "gridcolor": "white",
             "linecolor": "white",
             "minorgridcolor": "white",
             "startlinecolor": "#2a3f5f"
            },
            "type": "carpet"
           }
          ],
          "choropleth": [
           {
            "colorbar": {
             "outlinewidth": 0,
             "ticks": ""
            },
            "type": "choropleth"
           }
          ],
          "contour": [
           {
            "colorbar": {
             "outlinewidth": 0,
             "ticks": ""
            },
            "colorscale": [
             [
              0,
              "#0d0887"
             ],
             [
              0.1111111111111111,
              "#46039f"
             ],
             [
              0.2222222222222222,
              "#7201a8"
             ],
             [
              0.3333333333333333,
              "#9c179e"
             ],
             [
              0.4444444444444444,
              "#bd3786"
             ],
             [
              0.5555555555555556,
              "#d8576b"
             ],
             [
              0.6666666666666666,
              "#ed7953"
             ],
             [
              0.7777777777777778,
              "#fb9f3a"
             ],
             [
              0.8888888888888888,
              "#fdca26"
             ],
             [
              1,
              "#f0f921"
             ]
            ],
            "type": "contour"
           }
          ],
          "contourcarpet": [
           {
            "colorbar": {
             "outlinewidth": 0,
             "ticks": ""
            },
            "type": "contourcarpet"
           }
          ],
          "heatmap": [
           {
            "colorbar": {
             "outlinewidth": 0,
             "ticks": ""
            },
            "colorscale": [
             [
              0,
              "#0d0887"
             ],
             [
              0.1111111111111111,
              "#46039f"
             ],
             [
              0.2222222222222222,
              "#7201a8"
             ],
             [
              0.3333333333333333,
              "#9c179e"
             ],
             [
              0.4444444444444444,
              "#bd3786"
             ],
             [
              0.5555555555555556,
              "#d8576b"
             ],
             [
              0.6666666666666666,
              "#ed7953"
             ],
             [
              0.7777777777777778,
              "#fb9f3a"
             ],
             [
              0.8888888888888888,
              "#fdca26"
             ],
             [
              1,
              "#f0f921"
             ]
            ],
            "type": "heatmap"
           }
          ],
          "heatmapgl": [
           {
            "colorbar": {
             "outlinewidth": 0,
             "ticks": ""
            },
            "colorscale": [
             [
              0,
              "#0d0887"
             ],
             [
              0.1111111111111111,
              "#46039f"
             ],
             [
              0.2222222222222222,
              "#7201a8"
             ],
             [
              0.3333333333333333,
              "#9c179e"
             ],
             [
              0.4444444444444444,
              "#bd3786"
             ],
             [
              0.5555555555555556,
              "#d8576b"
             ],
             [
              0.6666666666666666,
              "#ed7953"
             ],
             [
              0.7777777777777778,
              "#fb9f3a"
             ],
             [
              0.8888888888888888,
              "#fdca26"
             ],
             [
              1,
              "#f0f921"
             ]
            ],
            "type": "heatmapgl"
           }
          ],
          "histogram": [
           {
            "marker": {
             "colorbar": {
              "outlinewidth": 0,
              "ticks": ""
             }
            },
            "type": "histogram"
           }
          ],
          "histogram2d": [
           {
            "colorbar": {
             "outlinewidth": 0,
             "ticks": ""
            },
            "colorscale": [
             [
              0,
              "#0d0887"
             ],
             [
              0.1111111111111111,
              "#46039f"
             ],
             [
              0.2222222222222222,
              "#7201a8"
             ],
             [
              0.3333333333333333,
              "#9c179e"
             ],
             [
              0.4444444444444444,
              "#bd3786"
             ],
             [
              0.5555555555555556,
              "#d8576b"
             ],
             [
              0.6666666666666666,
              "#ed7953"
             ],
             [
              0.7777777777777778,
              "#fb9f3a"
             ],
             [
              0.8888888888888888,
              "#fdca26"
             ],
             [
              1,
              "#f0f921"
             ]
            ],
            "type": "histogram2d"
           }
          ],
          "histogram2dcontour": [
           {
            "colorbar": {
             "outlinewidth": 0,
             "ticks": ""
            },
            "colorscale": [
             [
              0,
              "#0d0887"
             ],
             [
              0.1111111111111111,
              "#46039f"
             ],
             [
              0.2222222222222222,
              "#7201a8"
             ],
             [
              0.3333333333333333,
              "#9c179e"
             ],
             [
              0.4444444444444444,
              "#bd3786"
             ],
             [
              0.5555555555555556,
              "#d8576b"
             ],
             [
              0.6666666666666666,
              "#ed7953"
             ],
             [
              0.7777777777777778,
              "#fb9f3a"
             ],
             [
              0.8888888888888888,
              "#fdca26"
             ],
             [
              1,
              "#f0f921"
             ]
            ],
            "type": "histogram2dcontour"
           }
          ],
          "mesh3d": [
           {
            "colorbar": {
             "outlinewidth": 0,
             "ticks": ""
            },
            "type": "mesh3d"
           }
          ],
          "parcoords": [
           {
            "line": {
             "colorbar": {
              "outlinewidth": 0,
              "ticks": ""
             }
            },
            "type": "parcoords"
           }
          ],
          "scatter": [
           {
            "marker": {
             "colorbar": {
              "outlinewidth": 0,
              "ticks": ""
             }
            },
            "type": "scatter"
           }
          ],
          "scatter3d": [
           {
            "line": {
             "colorbar": {
              "outlinewidth": 0,
              "ticks": ""
             }
            },
            "marker": {
             "colorbar": {
              "outlinewidth": 0,
              "ticks": ""
             }
            },
            "type": "scatter3d"
           }
          ],
          "scattercarpet": [
           {
            "marker": {
             "colorbar": {
              "outlinewidth": 0,
              "ticks": ""
             }
            },
            "type": "scattercarpet"
           }
          ],
          "scattergeo": [
           {
            "marker": {
             "colorbar": {
              "outlinewidth": 0,
              "ticks": ""
             }
            },
            "type": "scattergeo"
           }
          ],
          "scattergl": [
           {
            "marker": {
             "colorbar": {
              "outlinewidth": 0,
              "ticks": ""
             }
            },
            "type": "scattergl"
           }
          ],
          "scattermapbox": [
           {
            "marker": {
             "colorbar": {
              "outlinewidth": 0,
              "ticks": ""
             }
            },
            "type": "scattermapbox"
           }
          ],
          "scatterpolar": [
           {
            "marker": {
             "colorbar": {
              "outlinewidth": 0,
              "ticks": ""
             }
            },
            "type": "scatterpolar"
           }
          ],
          "scatterpolargl": [
           {
            "marker": {
             "colorbar": {
              "outlinewidth": 0,
              "ticks": ""
             }
            },
            "type": "scatterpolargl"
           }
          ],
          "scatterternary": [
           {
            "marker": {
             "colorbar": {
              "outlinewidth": 0,
              "ticks": ""
             }
            },
            "type": "scatterternary"
           }
          ],
          "surface": [
           {
            "colorbar": {
             "outlinewidth": 0,
             "ticks": ""
            },
            "colorscale": [
             [
              0,
              "#0d0887"
             ],
             [
              0.1111111111111111,
              "#46039f"
             ],
             [
              0.2222222222222222,
              "#7201a8"
             ],
             [
              0.3333333333333333,
              "#9c179e"
             ],
             [
              0.4444444444444444,
              "#bd3786"
             ],
             [
              0.5555555555555556,
              "#d8576b"
             ],
             [
              0.6666666666666666,
              "#ed7953"
             ],
             [
              0.7777777777777778,
              "#fb9f3a"
             ],
             [
              0.8888888888888888,
              "#fdca26"
             ],
             [
              1,
              "#f0f921"
             ]
            ],
            "type": "surface"
           }
          ],
          "table": [
           {
            "cells": {
             "fill": {
              "color": "#EBF0F8"
             },
             "line": {
              "color": "white"
             }
            },
            "header": {
             "fill": {
              "color": "#C8D4E3"
             },
             "line": {
              "color": "white"
             }
            },
            "type": "table"
           }
          ]
         },
         "layout": {
          "annotationdefaults": {
           "arrowcolor": "#2a3f5f",
           "arrowhead": 0,
           "arrowwidth": 1
          },
          "colorscale": {
           "diverging": [
            [
             0,
             "#8e0152"
            ],
            [
             0.1,
             "#c51b7d"
            ],
            [
             0.2,
             "#de77ae"
            ],
            [
             0.3,
             "#f1b6da"
            ],
            [
             0.4,
             "#fde0ef"
            ],
            [
             0.5,
             "#f7f7f7"
            ],
            [
             0.6,
             "#e6f5d0"
            ],
            [
             0.7,
             "#b8e186"
            ],
            [
             0.8,
             "#7fbc41"
            ],
            [
             0.9,
             "#4d9221"
            ],
            [
             1,
             "#276419"
            ]
           ],
           "sequential": [
            [
             0,
             "#0d0887"
            ],
            [
             0.1111111111111111,
             "#46039f"
            ],
            [
             0.2222222222222222,
             "#7201a8"
            ],
            [
             0.3333333333333333,
             "#9c179e"
            ],
            [
             0.4444444444444444,
             "#bd3786"
            ],
            [
             0.5555555555555556,
             "#d8576b"
            ],
            [
             0.6666666666666666,
             "#ed7953"
            ],
            [
             0.7777777777777778,
             "#fb9f3a"
            ],
            [
             0.8888888888888888,
             "#fdca26"
            ],
            [
             1,
             "#f0f921"
            ]
           ],
           "sequentialminus": [
            [
             0,
             "#0d0887"
            ],
            [
             0.1111111111111111,
             "#46039f"
            ],
            [
             0.2222222222222222,
             "#7201a8"
            ],
            [
             0.3333333333333333,
             "#9c179e"
            ],
            [
             0.4444444444444444,
             "#bd3786"
            ],
            [
             0.5555555555555556,
             "#d8576b"
            ],
            [
             0.6666666666666666,
             "#ed7953"
            ],
            [
             0.7777777777777778,
             "#fb9f3a"
            ],
            [
             0.8888888888888888,
             "#fdca26"
            ],
            [
             1,
             "#f0f921"
            ]
           ]
          },
          "colorway": [
           "#636efa",
           "#EF553B",
           "#00cc96",
           "#ab63fa",
           "#FFA15A",
           "#19d3f3",
           "#FF6692",
           "#B6E880",
           "#FF97FF",
           "#FECB52"
          ],
          "font": {
           "color": "#2a3f5f"
          },
          "geo": {
           "bgcolor": "white",
           "lakecolor": "white",
           "landcolor": "#E5ECF6",
           "showlakes": true,
           "showland": true,
           "subunitcolor": "white"
          },
          "hoverlabel": {
           "align": "left"
          },
          "hovermode": "closest",
          "mapbox": {
           "style": "light"
          },
          "paper_bgcolor": "white",
          "plot_bgcolor": "#E5ECF6",
          "polar": {
           "angularaxis": {
            "gridcolor": "white",
            "linecolor": "white",
            "ticks": ""
           },
           "bgcolor": "#E5ECF6",
           "radialaxis": {
            "gridcolor": "white",
            "linecolor": "white",
            "ticks": ""
           }
          },
          "scene": {
           "xaxis": {
            "backgroundcolor": "#E5ECF6",
            "gridcolor": "white",
            "gridwidth": 2,
            "linecolor": "white",
            "showbackground": true,
            "ticks": "",
            "zerolinecolor": "white"
           },
           "yaxis": {
            "backgroundcolor": "#E5ECF6",
            "gridcolor": "white",
            "gridwidth": 2,
            "linecolor": "white",
            "showbackground": true,
            "ticks": "",
            "zerolinecolor": "white"
           },
           "zaxis": {
            "backgroundcolor": "#E5ECF6",
            "gridcolor": "white",
            "gridwidth": 2,
            "linecolor": "white",
            "showbackground": true,
            "ticks": "",
            "zerolinecolor": "white"
           }
          },
          "shapedefaults": {
           "line": {
            "color": "#2a3f5f"
           }
          },
          "ternary": {
           "aaxis": {
            "gridcolor": "white",
            "linecolor": "white",
            "ticks": ""
           },
           "baxis": {
            "gridcolor": "white",
            "linecolor": "white",
            "ticks": ""
           },
           "bgcolor": "#E5ECF6",
           "caxis": {
            "gridcolor": "white",
            "linecolor": "white",
            "ticks": ""
           }
          },
          "title": {
           "x": 0.05
          },
          "xaxis": {
           "automargin": true,
           "gridcolor": "white",
           "linecolor": "white",
           "ticks": "",
           "zerolinecolor": "white",
           "zerolinewidth": 2
          },
          "yaxis": {
           "automargin": true,
           "gridcolor": "white",
           "linecolor": "white",
           "ticks": "",
           "zerolinecolor": "white",
           "zerolinewidth": 2
          }
         }
        },
        "xaxis": {
         "anchor": "y",
         "domain": [
          0,
          0.98
         ],
         "title": {
          "text": "Year"
         }
        },
        "yaxis": {
         "anchor": "x",
         "domain": [
          0,
          1
         ],
         "title": {
          "text": "Annual Return"
         }
        }
       }
      },
      "text/html": [
       "<div>\n",
       "        \n",
       "        \n",
       "            <div id=\"8854852e-1970-4969-ad60-00d20b6ab2b2\" class=\"plotly-graph-div\" style=\"height:600px; width:100%;\"></div>\n",
       "            <script type=\"text/javascript\">\n",
       "                require([\"plotly\"], function(Plotly) {\n",
       "                    window.PLOTLYENV=window.PLOTLYENV || {};\n",
       "                    \n",
       "                if (document.getElementById(\"8854852e-1970-4969-ad60-00d20b6ab2b2\")) {\n",
       "                    Plotly.newPlot(\n",
       "                        '8854852e-1970-4969-ad60-00d20b6ab2b2',\n",
       "                        [{\"alignmentgroup\": \"True\", \"hoverlabel\": {\"namelength\": 0}, \"hovertemplate\": \"Portfolio=Index<br>Year=%{x}<br>Annual Return=%{y}\", \"legendgroup\": \"Portfolio=Index\", \"marker\": {\"color\": \"#636efa\"}, \"name\": \"Portfolio=Index\", \"offsetgroup\": \"Portfolio=Index\", \"orientation\": \"v\", \"showlegend\": true, \"textposition\": \"auto\", \"type\": \"bar\", \"x\": [2007, 2008, 2009, 2010, 2011, 2012, 2013, 2014, 2015, 2016, 2017, 2018], \"xaxis\": \"x\", \"y\": [-0.11669039244493418, -0.38696415055554667, 0.46637615263845955, 0.30141919047258314, 0.034448732982163666, 0.24756140382827496, 0.4448776627608997, 0.09184809128801774, 0.060372950971157247, 0.07098521862827045, 0.22818020138212058, -0.018292663686772626], \"yaxis\": \"y\"}, {\"alignmentgroup\": \"True\", \"hoverlabel\": {\"namelength\": 0}, \"hovertemplate\": \"Portfolio=Top<br>Year=%{x}<br>Annual Return=%{y}\", \"legendgroup\": \"Portfolio=Top\", \"marker\": {\"color\": \"#EF553B\"}, \"name\": \"Portfolio=Top\", \"offsetgroup\": \"Portfolio=Top\", \"orientation\": \"v\", \"showlegend\": true, \"textposition\": \"auto\", \"type\": \"bar\", \"x\": [2007, 2008, 2009, 2010, 2011, 2012, 2013, 2014, 2015, 2016, 2017, 2018], \"xaxis\": \"x\", \"y\": [0.1013, 0.0963, 0.0673, 0.0699, 0.1322, 0.1034, 0.0326, 0.0439, 0.0237, 0.1238, 0.1444, 0.0367], \"yaxis\": \"y\"}],\n",
       "                        {\"barmode\": \"group\", \"height\": 600, \"legend\": {\"tracegroupgap\": 0}, \"margin\": {\"t\": 60}, \"template\": {\"data\": {\"bar\": [{\"error_x\": {\"color\": \"#2a3f5f\"}, \"error_y\": {\"color\": \"#2a3f5f\"}, \"marker\": {\"line\": {\"color\": \"#E5ECF6\", \"width\": 0.5}}, \"type\": \"bar\"}], \"barpolar\": [{\"marker\": {\"line\": {\"color\": \"#E5ECF6\", \"width\": 0.5}}, \"type\": \"barpolar\"}], \"carpet\": [{\"aaxis\": {\"endlinecolor\": \"#2a3f5f\", \"gridcolor\": \"white\", \"linecolor\": \"white\", \"minorgridcolor\": \"white\", \"startlinecolor\": \"#2a3f5f\"}, \"baxis\": {\"endlinecolor\": \"#2a3f5f\", \"gridcolor\": \"white\", \"linecolor\": \"white\", \"minorgridcolor\": \"white\", \"startlinecolor\": \"#2a3f5f\"}, \"type\": \"carpet\"}], \"choropleth\": [{\"colorbar\": {\"outlinewidth\": 0, \"ticks\": \"\"}, \"type\": \"choropleth\"}], \"contour\": [{\"colorbar\": {\"outlinewidth\": 0, \"ticks\": \"\"}, \"colorscale\": [[0.0, \"#0d0887\"], [0.1111111111111111, \"#46039f\"], [0.2222222222222222, \"#7201a8\"], [0.3333333333333333, \"#9c179e\"], [0.4444444444444444, \"#bd3786\"], [0.5555555555555556, \"#d8576b\"], [0.6666666666666666, \"#ed7953\"], [0.7777777777777778, \"#fb9f3a\"], [0.8888888888888888, \"#fdca26\"], [1.0, \"#f0f921\"]], \"type\": \"contour\"}], \"contourcarpet\": [{\"colorbar\": {\"outlinewidth\": 0, \"ticks\": \"\"}, \"type\": \"contourcarpet\"}], \"heatmap\": [{\"colorbar\": {\"outlinewidth\": 0, \"ticks\": \"\"}, \"colorscale\": [[0.0, \"#0d0887\"], [0.1111111111111111, \"#46039f\"], [0.2222222222222222, \"#7201a8\"], [0.3333333333333333, \"#9c179e\"], [0.4444444444444444, \"#bd3786\"], [0.5555555555555556, \"#d8576b\"], [0.6666666666666666, \"#ed7953\"], [0.7777777777777778, \"#fb9f3a\"], [0.8888888888888888, \"#fdca26\"], [1.0, \"#f0f921\"]], \"type\": \"heatmap\"}], \"heatmapgl\": [{\"colorbar\": {\"outlinewidth\": 0, \"ticks\": \"\"}, \"colorscale\": [[0.0, \"#0d0887\"], [0.1111111111111111, \"#46039f\"], [0.2222222222222222, \"#7201a8\"], [0.3333333333333333, \"#9c179e\"], [0.4444444444444444, \"#bd3786\"], [0.5555555555555556, \"#d8576b\"], [0.6666666666666666, \"#ed7953\"], [0.7777777777777778, \"#fb9f3a\"], [0.8888888888888888, \"#fdca26\"], [1.0, \"#f0f921\"]], \"type\": \"heatmapgl\"}], \"histogram\": [{\"marker\": {\"colorbar\": {\"outlinewidth\": 0, \"ticks\": \"\"}}, \"type\": \"histogram\"}], \"histogram2d\": [{\"colorbar\": {\"outlinewidth\": 0, \"ticks\": \"\"}, \"colorscale\": [[0.0, \"#0d0887\"], [0.1111111111111111, \"#46039f\"], [0.2222222222222222, \"#7201a8\"], [0.3333333333333333, \"#9c179e\"], [0.4444444444444444, \"#bd3786\"], [0.5555555555555556, \"#d8576b\"], [0.6666666666666666, \"#ed7953\"], [0.7777777777777778, \"#fb9f3a\"], [0.8888888888888888, \"#fdca26\"], [1.0, \"#f0f921\"]], \"type\": \"histogram2d\"}], \"histogram2dcontour\": [{\"colorbar\": {\"outlinewidth\": 0, \"ticks\": \"\"}, \"colorscale\": [[0.0, \"#0d0887\"], [0.1111111111111111, \"#46039f\"], [0.2222222222222222, \"#7201a8\"], [0.3333333333333333, \"#9c179e\"], [0.4444444444444444, \"#bd3786\"], [0.5555555555555556, \"#d8576b\"], [0.6666666666666666, \"#ed7953\"], [0.7777777777777778, \"#fb9f3a\"], [0.8888888888888888, \"#fdca26\"], [1.0, \"#f0f921\"]], \"type\": \"histogram2dcontour\"}], \"mesh3d\": [{\"colorbar\": {\"outlinewidth\": 0, \"ticks\": \"\"}, \"type\": \"mesh3d\"}], \"parcoords\": [{\"line\": {\"colorbar\": {\"outlinewidth\": 0, \"ticks\": \"\"}}, \"type\": \"parcoords\"}], \"scatter\": [{\"marker\": {\"colorbar\": {\"outlinewidth\": 0, \"ticks\": \"\"}}, \"type\": \"scatter\"}], \"scatter3d\": [{\"line\": {\"colorbar\": {\"outlinewidth\": 0, \"ticks\": \"\"}}, \"marker\": {\"colorbar\": {\"outlinewidth\": 0, \"ticks\": \"\"}}, \"type\": \"scatter3d\"}], \"scattercarpet\": [{\"marker\": {\"colorbar\": {\"outlinewidth\": 0, \"ticks\": \"\"}}, \"type\": \"scattercarpet\"}], \"scattergeo\": [{\"marker\": {\"colorbar\": {\"outlinewidth\": 0, \"ticks\": \"\"}}, \"type\": \"scattergeo\"}], \"scattergl\": [{\"marker\": {\"colorbar\": {\"outlinewidth\": 0, \"ticks\": \"\"}}, \"type\": \"scattergl\"}], \"scattermapbox\": [{\"marker\": {\"colorbar\": {\"outlinewidth\": 0, \"ticks\": \"\"}}, \"type\": \"scattermapbox\"}], \"scatterpolar\": [{\"marker\": {\"colorbar\": {\"outlinewidth\": 0, \"ticks\": \"\"}}, \"type\": \"scatterpolar\"}], \"scatterpolargl\": [{\"marker\": {\"colorbar\": {\"outlinewidth\": 0, \"ticks\": \"\"}}, \"type\": \"scatterpolargl\"}], \"scatterternary\": [{\"marker\": {\"colorbar\": {\"outlinewidth\": 0, \"ticks\": \"\"}}, \"type\": \"scatterternary\"}], \"surface\": [{\"colorbar\": {\"outlinewidth\": 0, \"ticks\": \"\"}, \"colorscale\": [[0.0, \"#0d0887\"], [0.1111111111111111, \"#46039f\"], [0.2222222222222222, \"#7201a8\"], [0.3333333333333333, \"#9c179e\"], [0.4444444444444444, \"#bd3786\"], [0.5555555555555556, \"#d8576b\"], [0.6666666666666666, \"#ed7953\"], [0.7777777777777778, \"#fb9f3a\"], [0.8888888888888888, \"#fdca26\"], [1.0, \"#f0f921\"]], \"type\": \"surface\"}], \"table\": [{\"cells\": {\"fill\": {\"color\": \"#EBF0F8\"}, \"line\": {\"color\": \"white\"}}, \"header\": {\"fill\": {\"color\": \"#C8D4E3\"}, \"line\": {\"color\": \"white\"}}, \"type\": \"table\"}]}, \"layout\": {\"annotationdefaults\": {\"arrowcolor\": \"#2a3f5f\", \"arrowhead\": 0, \"arrowwidth\": 1}, \"colorscale\": {\"diverging\": [[0, \"#8e0152\"], [0.1, \"#c51b7d\"], [0.2, \"#de77ae\"], [0.3, \"#f1b6da\"], [0.4, \"#fde0ef\"], [0.5, \"#f7f7f7\"], [0.6, \"#e6f5d0\"], [0.7, \"#b8e186\"], [0.8, \"#7fbc41\"], [0.9, \"#4d9221\"], [1, \"#276419\"]], \"sequential\": [[0.0, \"#0d0887\"], [0.1111111111111111, \"#46039f\"], [0.2222222222222222, \"#7201a8\"], [0.3333333333333333, \"#9c179e\"], [0.4444444444444444, \"#bd3786\"], [0.5555555555555556, \"#d8576b\"], [0.6666666666666666, \"#ed7953\"], [0.7777777777777778, \"#fb9f3a\"], [0.8888888888888888, \"#fdca26\"], [1.0, \"#f0f921\"]], \"sequentialminus\": [[0.0, \"#0d0887\"], [0.1111111111111111, \"#46039f\"], [0.2222222222222222, \"#7201a8\"], [0.3333333333333333, \"#9c179e\"], [0.4444444444444444, \"#bd3786\"], [0.5555555555555556, \"#d8576b\"], [0.6666666666666666, \"#ed7953\"], [0.7777777777777778, \"#fb9f3a\"], [0.8888888888888888, \"#fdca26\"], [1.0, \"#f0f921\"]]}, \"colorway\": [\"#636efa\", \"#EF553B\", \"#00cc96\", \"#ab63fa\", \"#FFA15A\", \"#19d3f3\", \"#FF6692\", \"#B6E880\", \"#FF97FF\", \"#FECB52\"], \"font\": {\"color\": \"#2a3f5f\"}, \"geo\": {\"bgcolor\": \"white\", \"lakecolor\": \"white\", \"landcolor\": \"#E5ECF6\", \"showlakes\": true, \"showland\": true, \"subunitcolor\": \"white\"}, \"hoverlabel\": {\"align\": \"left\"}, \"hovermode\": \"closest\", \"mapbox\": {\"style\": \"light\"}, \"paper_bgcolor\": \"white\", \"plot_bgcolor\": \"#E5ECF6\", \"polar\": {\"angularaxis\": {\"gridcolor\": \"white\", \"linecolor\": \"white\", \"ticks\": \"\"}, \"bgcolor\": \"#E5ECF6\", \"radialaxis\": {\"gridcolor\": \"white\", \"linecolor\": \"white\", \"ticks\": \"\"}}, \"scene\": {\"xaxis\": {\"backgroundcolor\": \"#E5ECF6\", \"gridcolor\": \"white\", \"gridwidth\": 2, \"linecolor\": \"white\", \"showbackground\": true, \"ticks\": \"\", \"zerolinecolor\": \"white\"}, \"yaxis\": {\"backgroundcolor\": \"#E5ECF6\", \"gridcolor\": \"white\", \"gridwidth\": 2, \"linecolor\": \"white\", \"showbackground\": true, \"ticks\": \"\", \"zerolinecolor\": \"white\"}, \"zaxis\": {\"backgroundcolor\": \"#E5ECF6\", \"gridcolor\": \"white\", \"gridwidth\": 2, \"linecolor\": \"white\", \"showbackground\": true, \"ticks\": \"\", \"zerolinecolor\": \"white\"}}, \"shapedefaults\": {\"line\": {\"color\": \"#2a3f5f\"}}, \"ternary\": {\"aaxis\": {\"gridcolor\": \"white\", \"linecolor\": \"white\", \"ticks\": \"\"}, \"baxis\": {\"gridcolor\": \"white\", \"linecolor\": \"white\", \"ticks\": \"\"}, \"bgcolor\": \"#E5ECF6\", \"caxis\": {\"gridcolor\": \"white\", \"linecolor\": \"white\", \"ticks\": \"\"}}, \"title\": {\"x\": 0.05}, \"xaxis\": {\"automargin\": true, \"gridcolor\": \"white\", \"linecolor\": \"white\", \"ticks\": \"\", \"zerolinecolor\": \"white\", \"zerolinewidth\": 2}, \"yaxis\": {\"automargin\": true, \"gridcolor\": \"white\", \"linecolor\": \"white\", \"ticks\": \"\", \"zerolinecolor\": \"white\", \"zerolinewidth\": 2}}}, \"xaxis\": {\"anchor\": \"y\", \"domain\": [0.0, 0.98], \"title\": {\"text\": \"Year\"}}, \"yaxis\": {\"anchor\": \"x\", \"domain\": [0.0, 1.0], \"title\": {\"text\": \"Annual Return\"}}},\n",
       "                        {\"responsive\": true}\n",
       "                    ).then(function(){\n",
       "                            \n",
       "var gd = document.getElementById('8854852e-1970-4969-ad60-00d20b6ab2b2');\n",
       "var x = new MutationObserver(function (mutations, observer) {{\n",
       "        var display = window.getComputedStyle(gd).display;\n",
       "        if (!display || display === 'none') {{\n",
       "            console.log([gd, 'removed!']);\n",
       "            Plotly.purge(gd);\n",
       "            observer.disconnect();\n",
       "        }}\n",
       "}});\n",
       "\n",
       "// Listen for the removal of the full notebook cells\n",
       "var notebookContainer = gd.closest('#notebook-container');\n",
       "if (notebookContainer) {{\n",
       "    x.observe(notebookContainer, {childList: true});\n",
       "}}\n",
       "\n",
       "// Listen for the clearing of the current output cell\n",
       "var outputEl = gd.closest('.output');\n",
       "if (outputEl) {{\n",
       "    x.observe(outputEl, {childList: true});\n",
       "}}\n",
       "\n",
       "                        })\n",
       "                };\n",
       "                });\n",
       "            </script>\n",
       "        </div>"
      ]
     },
     "metadata": {},
     "output_type": "display_data"
    }
   ],
   "source": [
    "fig = px.bar(cd_df, x=\"Year\", y=\"Annual Return\", color=\"Portfolio\", barmode=\"group\")\n",
    "fig"
   ]
  },
  {
   "cell_type": "code",
   "execution_count": 16,
   "metadata": {},
   "outputs": [
    {
     "data": {
      "text/plain": [
       "plotly.graph_objs._figure.Figure"
      ]
     },
     "execution_count": 16,
     "metadata": {},
     "output_type": "execute_result"
    }
   ],
   "source": [
    "type(fig)"
   ]
  },
  {
   "cell_type": "code",
   "execution_count": null,
   "metadata": {},
   "outputs": [],
   "source": []
  },
  {
   "cell_type": "code",
   "execution_count": 20,
   "metadata": {},
   "outputs": [
    {
     "data": {
      "text/plain": [
       "<matplotlib.axes._subplots.AxesSubplot at 0x2564b6ca5f8>"
      ]
     },
     "execution_count": 20,
     "metadata": {},
     "output_type": "execute_result"
    },
    {
     "data": {
      "image/png": "[encoded data removed]",
      "text/plain": [
       "<Figure size 432x288 with 1 Axes>"
      ]
     },
     "metadata": {
      "needs_background": "light"
     },
     "output_type": "display_data"
    }
   ],
   "source": [
    "cd_df.plot(kind=\"bar\",x=\"Year\", y=\"Annual Return\")"
   ]
  },
  {
   "cell_type": "code",
   "execution_count": null,
   "metadata": {},
   "outputs": [],
   "source": []
  }
 ],
 "metadata": {
  "kernelspec": {
   "display_name": "Python 3",
   "language": "python",
   "name": "python3"
  },
  "language_info": {
   "codemirror_mode": {
    "name": "ipython",
    "version": 3
   },
   "file_extension": ".py",
   "mimetype": "text/x-python",
   "name": "python",
   "nbconvert_exporter": "python",
   "pygments_lexer": "ipython3",
   "version": "3.7.3"
  }
 },
 "nbformat": 4,
 "nbformat_minor": 4
}
