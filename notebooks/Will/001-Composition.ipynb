{
 "cells": [
  {
   "cell_type": "markdown",
   "metadata": {},
   "source": [
    "# Working with the Russell 3000 IWV Composition (CSV) files"
   ]
  },
  {
   "cell_type": "code",
   "execution_count": 1,
   "metadata": {},
   "outputs": [],
   "source": [
    "import numpy as np\n",
    "import pandas as pd\n",
    "import os.path\n",
    "from os import path\n",
    "import csv\n",
    "from pathlib import Path\n",
    "import pickle\n",
    "import os\n",
    "from datetime import datetime"
   ]
  },
  {
   "cell_type": "markdown",
   "metadata": {},
   "source": [
    "# Function to convert Composition file to Pandas Data Frame\n",
    "\n",
    "1. Each end of year composition files reside here: `../../data/rawdata/fund-composition-as-of/eoy/`\n",
    "2. first parameter, `file` is the full/relative path to a IWX composition file\n",
    "3. second parameter, `composition_label` is the label for the df. This will help keep each composition unique if/when concatting to other data\n",
    "3. remove dollar signs and commas from ALL fields\n",
    "4. Drop NA, the last row in the csv is usually empty for some reason, this fixes that\n",
    "\n",
    "**TODO**\n",
    "Learn more about [python exceptions](https://docs.python.org/3/library/exceptions.html), perhaps there's a better exception to throw specific to file I/O, or for when csv doesn't convert to data frame.\n"
   ]
  },
  {
   "cell_type": "code",
   "execution_count": 2,
   "metadata": {},
   "outputs": [],
   "source": [
    "def composition_df_from_csv(file,composition_label):\n",
    "    \"\"\" Converts path to IWX Composition file to a pandas data frame\"\"\"\n",
    "    if path.exists(file):\n",
    "        prices = pd.read_csv(csv_file, error_bad_lines=False, header=10)\n",
    "        cols = prices.columns\n",
    "        prices[cols] = prices[cols].replace({'\\$': '',',': ''}, regex=True)\n",
    "        prices.dropna(inplace=True)\n",
    "        prices['composition_label'] = composition_label\n",
    "        return prices\n",
    "    else:\n",
    "        raise Exception (f\"file '{file}' doesn't exist\")"
   ]
  },
  {
   "cell_type": "code",
   "execution_count": null,
   "metadata": {},
   "outputs": [],
   "source": []
  },
  {
   "cell_type": "code",
   "execution_count": 11,
   "metadata": {},
   "outputs": [],
   "source": [
    "# pd.concat([combined_df,df], axis=\"columns\", join=\"inner\")\n",
    "        "
   ]
  },
  {
   "cell_type": "code",
   "execution_count": null,
   "metadata": {},
   "outputs": [],
   "source": []
  }
 ],
 "metadata": {
  "kernelspec": {
   "display_name": "Python 3",
   "language": "python",
   "name": "python3"
  },
  "language_info": {
   "codemirror_mode": {
    "name": "ipython",
    "version": 3
   },
   "file_extension": ".py",
   "mimetype": "text/x-python",
   "name": "python",
   "nbconvert_exporter": "python",
   "pygments_lexer": "ipython3",
   "version": "3.7.3"
  }
 },
 "nbformat": 4,
 "nbformat_minor": 4
}
