{
 "cells": [
  {
   "cell_type": "markdown",
   "metadata": {},
   "source": [
    "# Group 2 Project 1 Sector TOP DOGS"
   ]
  },
  {
   "cell_type": "code",
   "execution_count": 1,
   "metadata": {},
   "outputs": [],
   "source": [
    "import pandas as pd\n",
    "import numpy as np\n",
    "import datetime\n",
    "import os.path\n",
    "import csv\n",
    "from pathlib import Path\n",
    "%matplotlib inline\n",
    "import matplotlib.pyplot as plt"
   ]
  },
  {
   "cell_type": "markdown",
   "metadata": {},
   "source": [
    "## Function: Get tickers for years"
   ]
  },
  {
   "cell_type": "code",
   "execution_count": 2,
   "metadata": {},
   "outputs": [],
   "source": [
    "def get_tickers_for_years(years,sector):\n",
    "    \"\"\"pass me a list of years [2013,2015,...], and right, ZERO parameter or error checking\"\"\"\n",
    "    tech_csv = Path(f\"./{sector}SectorTickers-between-2015-2018.csv\")\n",
    "    #print(type(years))\n",
    "    tech_tickers_df = pd.read_csv(tech_csv)\n",
    "    #print(tech_tickers_df.head())\n",
    "    all_tickers = []\n",
    "    \n",
    "    for year in years:\n",
    "        #print(type(year))\n",
    "        ticker_list = tech_tickers_df[year].tolist()\n",
    "        ticker_list = [x for x in ticker_list if str(x) != \"nan\"]\n",
    "        all_tickers.extend(ticker_list)\n",
    "    \n",
    "    return np.array(all_tickers)"
   ]
  },
  {
   "cell_type": "markdown",
   "metadata": {},
   "source": [
    "## Function: Calculate the top performing tickers in range"
   ]
  },
  {
   "cell_type": "code",
   "execution_count": 3,
   "metadata": {},
   "outputs": [],
   "source": [
    "def combined_df_for_timeframe(all_prices_df,ticker_list,day_start,day_end,sector):\n",
    "    \"\"\"Explain what I do here ;) \"\"\"\n",
    "    top_dogs = None\n",
    "    \n",
    "    print(f\"\\n\\nRunning combined_df_for_timeframe wtih start: {day_start} and end: {day_end}\\n\\n\")\n",
    "    \n",
    "    range_df = all_prices_df[(all_prices_df['Date'] >= day_start) & (all_prices_df['Date'] <= day_end)]\n",
    "\n",
    "    # Create empty dataframe with dates\n",
    "    prices_df = range_df[range_df['Ticker']=='A']\n",
    "    prices_df = prices_df[['Date','Adj Close']].copy()\n",
    "    prices_df = prices_df.drop(columns=[\"Adj Close\"])\n",
    "    prices_df = prices_df.set_index('Date')\n",
    "    \n",
    "    for ticker in ticker_list:\n",
    "        if ticker in ticker_list:\n",
    "            # I can't say I understand this bit... [Will]\n",
    "            ticker_df = range_df[range_df['Ticker']==ticker]\n",
    "            ticker_df = ticker_df[['Date', 'Adj Close']].copy()\n",
    "            ticker_df = ticker_df.rename(columns={'Adj Close':ticker})\n",
    "            ticker_df = ticker_df.set_index('Date')\n",
    "            prices_df = pd.concat([prices_df, ticker_df], axis=\"columns\", sort=True)\n",
    "            \n",
    "    return prices_df"
   ]
  },
  {
   "cell_type": "markdown",
   "metadata": {},
   "source": [
    "## Function: Calc percentage Change, and return TOP 10 best performing TICKERS as DataFrame"
   ]
  },
  {
   "cell_type": "code",
   "execution_count": 4,
   "metadata": {},
   "outputs": [],
   "source": [
    "def top_10_df(df):\n",
    "    pct_change = df.pct_change()\n",
    "    cumulative_returns = (1+pct_change).cumprod() -1\n",
    "    cum_returns = cumulative_returns.tail(1).T\n",
    "    column = cum_returns.columns[-1]\n",
    "    top = cum_returns.sort_values(by=column,ascending=False)\n",
    "    top = top.drop_duplicates()\n",
    "    top = top.head(10)\n",
    "    top = top.reset_index()\n",
    "    return top"
   ]
  },
  {
   "cell_type": "markdown",
   "metadata": {},
   "source": [
    "## Function: Return the returns of the TOP DOG Portfolio as DataFrame"
   ]
  },
  {
   "cell_type": "code",
   "execution_count": 8,
   "metadata": {},
   "outputs": [],
   "source": [
    "def top_10_returns(df,sector,year):\n",
    "    weights = [0.1, 0.1, 0.1, 0.1, 0.1, 0.1, 0.1, 0.1, 0.1, 0.1]\n",
    "    pct_change = df.dot(weights)\n",
    "    # cumulative_returns = (1 + portfolio_returns).cumprod()\n",
    "    # Removed the -1, per above example: https://rice.bootcampcontent.com/Rice-Coding-Bootcamp/RU-HOU-FIN-PT-07-2019-U-C/blob/master/class/04-Pandas/1/Activities/09-Stu_Portfolio_Planner_Part_II/Solved/portfolio_planner_part_2.ipynb\n",
    "    my_portfolio_one = (1+ pct_change).cumprod()\n",
    "#     plt.plot(my_portfolio_one)\n",
    "#     plt.xlabel('Time')\n",
    "#     plt.title(f\"{sector} 'Top Dog' returns for {year}\")\n",
    "#     plt.ylabel('Percent Change')\n",
    "#     plt.savefig(f\"./out/{sector}_top_dog_returns{year}.png\")\n",
    "    print(my_portfolio_one)\n",
    "    my_portfolio_tail = my_portfolio_one.tail(1)\n",
    "    my_portfolio_tail = pd.DataFrame(my_portfolio_tail)\n",
    "    my_portfolio_tail = my_portfolio_tail.reset_index(drop=True)\n",
    "    my_portfolio_tail = my_portfolio_tail.rename(columns={0:'Annual Return'})\n",
    "    my_portfolio_tail['Sector'] = sector\n",
    "    my_portfolio_tail['Year'] = year\n",
    "    my_portfolio_tail['Portfolio']= f\"{sector} 'Top Dog' for year ending {year}\"\n",
    "    IT_csv = Path(f\"./out/top_{sector}.csv\")\n",
    "    my_portfolio_tail.to_csv(path_or_buf=IT_csv, index=False)\n",
    "    return my_portfolio_one"
   ]
  },
  {
   "cell_type": "markdown",
   "metadata": {},
   "source": [
    "# Run the code"
   ]
  },
  {
   "cell_type": "markdown",
   "metadata": {},
   "source": [
    "## grab all ticker data for all sectors"
   ]
  },
  {
   "cell_type": "code",
   "execution_count": 9,
   "metadata": {},
   "outputs": [],
   "source": [
    "monthly_csv = Path(\"./aggregatedata.csv\")\n",
    "all_prices_df = pd.read_csv(monthly_csv, parse_dates=True, infer_datetime_format=True)"
   ]
  },
  {
   "cell_type": "markdown",
   "metadata": {},
   "source": [
    "## Now Loop through sectors"
   ]
  },
  {
   "cell_type": "code",
   "execution_count": 10,
   "metadata": {},
   "outputs": [
    {
     "name": "stdout",
     "output_type": "stream",
     "text": [
      "Calculating Top Portfolio for Technology for year end 2017\n",
      "\n",
      "\n",
      "Running combined_df_for_timeframe wtih start: 2015-01-01 and end: 2017-12-31\n",
      "\n",
      "\n",
      "\n",
      "\n",
      "Running combined_df_for_timeframe wtih start: 2018-01-01 and end: 2018-12-31\n",
      "\n",
      "\n",
      "Date\n",
      "2018-01-02    8.675146e+01\n",
      "2018-02-01    7.717731e+03\n",
      "2018-03-01    6.268052e+05\n",
      "2018-04-02    4.703495e+07\n",
      "2018-05-01    3.560401e+09\n",
      "2018-06-01    2.913115e+11\n",
      "2018-07-02    2.340388e+13\n",
      "2018-08-01    1.940739e+15\n",
      "2018-09-04    1.810680e+17\n",
      "2018-10-01    1.624530e+19\n",
      "2018-11-01    1.181742e+21\n",
      "2018-12-03    7.774477e+22\n",
      "dtype: float64\n",
      "Calculating Top Portfolio for Financials for year end 2017\n",
      "\n",
      "\n",
      "Running combined_df_for_timeframe wtih start: 2015-01-01 and end: 2017-12-31\n",
      "\n",
      "\n",
      "\n",
      "\n",
      "Running combined_df_for_timeframe wtih start: 2018-01-01 and end: 2018-12-31\n",
      "\n",
      "\n",
      "Date\n",
      "2018-01-02    8.363038e+01\n",
      "2018-02-01    6.637953e+03\n",
      "2018-03-01    5.056737e+05\n",
      "2018-04-02    3.731003e+07\n",
      "2018-05-01    2.586722e+09\n",
      "2018-06-01    1.807141e+11\n",
      "2018-07-02    1.064559e+13\n",
      "2018-08-01    6.216356e+14\n",
      "2018-09-04    4.081538e+16\n",
      "2018-10-01    2.284982e+18\n",
      "2018-11-01    1.299061e+20\n",
      "2018-12-03    7.364129e+21\n",
      "dtype: float64\n",
      "Calculating Top Portfolio for HealthCare for year end 2017\n",
      "\n",
      "\n",
      "Running combined_df_for_timeframe wtih start: 2015-01-01 and end: 2017-12-31\n",
      "\n",
      "\n",
      "\n",
      "\n",
      "Running combined_df_for_timeframe wtih start: 2018-01-01 and end: 2018-12-31\n",
      "\n",
      "\n",
      "Date\n",
      "2018-01-02    3.084600e+01\n",
      "2018-02-01    1.063416e+03\n",
      "2018-03-01    3.758856e+04\n",
      "2018-04-02    1.269854e+06\n",
      "2018-05-01    4.454141e+07\n",
      "2018-06-01    1.789807e+09\n",
      "2018-07-02    6.541209e+10\n",
      "2018-08-01    2.443142e+12\n",
      "2018-09-04    9.069675e+13\n",
      "2018-10-01    3.278506e+15\n",
      "2018-11-01    1.073940e+17\n",
      "2018-12-03    3.775222e+18\n",
      "dtype: float64\n"
     ]
    }
   ],
   "source": [
    "sectors = ['Technology','Financials','HealthCare']\n",
    "start = '2015-01-01'\n",
    "end   = '2017-12-31'\n",
    "year_end,month,day = end.split('-')\n",
    "\n",
    "top_start = '2018-01-01'\n",
    "top_end   = '2018-12-31'\n",
    "\n",
    "# Loop through sectors, to find top dogs by sector\n",
    "for sector in sectors:\n",
    "    print(f\"Calculating Top Portfolio for {sector} for year end {year_end}\")\n",
    "    tickers = get_tickers_for_years(['2015','2016','2017'], sector)\n",
    "    results_df = combined_df_for_timeframe(all_prices_df,tickers,start,end,sector)\n",
    "    top10 = top_10_df(results_df)\n",
    "    top_tickers = []\n",
    "    top_tickers = top10['index'].tolist()\n",
    "    top_dog_portfolio = combined_df_for_timeframe(all_prices_df,top_tickers,top_start,top_end,sector)\n",
    "    #print(top_dog_portfolio)\n",
    "    #print(top_dog_portfolio.plot( title=f\"{sector} Portfolio Performance for {year_end}\" )   )\n",
    "    top_10_returns(top_dog_portfolio,sector,year_end)"
   ]
  },
  {
   "cell_type": "code",
   "execution_count": null,
   "metadata": {},
   "outputs": [],
   "source": []
  },
  {
   "cell_type": "code",
   "execution_count": null,
   "metadata": {},
   "outputs": [],
   "source": []
  }
 ],
 "metadata": {
  "kernelspec": {
   "display_name": "Python 3",
   "language": "python",
   "name": "python3"
  },
  "language_info": {
   "codemirror_mode": {
    "name": "ipython",
    "version": 3
   },
   "file_extension": ".py",
   "mimetype": "text/x-python",
   "name": "python",
   "nbconvert_exporter": "python",
   "pygments_lexer": "ipython3",
   "version": "3.7.3"
  }
 },
 "nbformat": 4,
 "nbformat_minor": 4
}
