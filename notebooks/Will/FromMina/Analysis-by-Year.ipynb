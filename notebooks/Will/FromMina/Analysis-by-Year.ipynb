{
 "cells": [
  {
   "cell_type": "markdown",
   "metadata": {},
   "source": [
    "# Group 2 Project 1 Sector TOP DOGS"
   ]
  },
  {
   "cell_type": "code",
   "execution_count": 1,
   "metadata": {},
   "outputs": [],
   "source": [
    "import pandas as pd\n",
    "import numpy as np\n",
    "import datetime\n",
    "import os.path\n",
    "import csv\n",
    "from pathlib import Path\n",
    "%matplotlib inline\n",
    "import matplotlib.pyplot as plt"
   ]
  },
  {
   "cell_type": "markdown",
   "metadata": {},
   "source": [
    "## Function: Get tickers for years"
   ]
  },
  {
   "cell_type": "code",
   "execution_count": 2,
   "metadata": {},
   "outputs": [],
   "source": [
    "def get_tickers_for_years(years,sector):\n",
    "    \"\"\"pass me a list of years [2013,2015,...], and right, ZERO parameter or error checking\"\"\"\n",
    "    tech_csv = Path(f\"./{sector}SectorTickers-between-2015-2018.csv\")\n",
    "    #print(type(years))\n",
    "    tech_tickers_df = pd.read_csv(tech_csv)\n",
    "    #print(tech_tickers_df.head())\n",
    "    all_tickers = []\n",
    "    \n",
    "    for year in years:\n",
    "        #print(type(year))\n",
    "        ticker_list = tech_tickers_df[year].tolist()\n",
    "        ticker_list = [x for x in ticker_list if str(x) != \"nan\"]\n",
    "        all_tickers.extend(ticker_list)\n",
    "    \n",
    "    return np.array(all_tickers)"
   ]
  },
  {
   "cell_type": "markdown",
   "metadata": {},
   "source": [
    "## Function: Calculate the top performing tickers in range"
   ]
  },
  {
   "cell_type": "code",
   "execution_count": 3,
   "metadata": {},
   "outputs": [],
   "source": [
    "def combined_df_for_timeframe(all_prices_df,ticker_list,day_start,day_end,sector):\n",
    "    \"\"\"Explain what I do here ;) \"\"\"\n",
    "    top_dogs = None\n",
    "    \n",
    "    print(f\"\\n\\nRunning combined_df_for_timeframe wtih start: {day_start} and end: {day_end}\\n\\n\")\n",
    "    \n",
    "    range_df = all_prices_df[(all_prices_df['Date'] >= day_start) & (all_prices_df['Date'] <= day_end)]\n",
    "\n",
    "    # Create empty dataframe with dates\n",
    "    prices_df = range_df[range_df['Ticker']=='A']\n",
    "    prices_df = prices_df[['Date','Adj Close']].copy()\n",
    "    prices_df = prices_df.drop(columns=[\"Adj Close\"])\n",
    "    prices_df = prices_df.set_index('Date')\n",
    "    \n",
    "    for ticker in ticker_list:\n",
    "        if ticker in ticker_list:\n",
    "            # I can't say I understand this bit... [Will]\n",
    "            ticker_df = range_df[range_df['Ticker']==ticker]\n",
    "            ticker_df = ticker_df[['Date', 'Adj Close']].copy()\n",
    "            ticker_df = ticker_df.rename(columns={'Adj Close':ticker})\n",
    "            ticker_df = ticker_df.set_index('Date')\n",
    "            prices_df = pd.concat([prices_df, ticker_df], axis=\"columns\", sort=True)\n",
    "            \n",
    "    return prices_df"
   ]
  },
  {
   "cell_type": "markdown",
   "metadata": {},
   "source": [
    "## Function: Calc percentage Change, and return TOP 10 best performing TICKERS as DataFrame"
   ]
  },
  {
   "cell_type": "code",
   "execution_count": 4,
   "metadata": {},
   "outputs": [],
   "source": [
    "def top_10_df(df):\n",
    "    pct_change = df.pct_change()\n",
    "    cumulative_returns = (1+pct_change).cumprod() -1\n",
    "    cum_returns = cumulative_returns.tail(1).T\n",
    "    column = cum_returns.columns[-1]\n",
    "    top = cum_returns.sort_values(by=column,ascending=False)\n",
    "    top = top.drop_duplicates()\n",
    "    top = top.head(10)\n",
    "    top = top.reset_index()\n",
    "    return top"
   ]
  },
  {
   "cell_type": "markdown",
   "metadata": {},
   "source": [
    "## Function: Return the returns of the TOP DOG Portfolio as DataFrame"
   ]
  },
  {
   "cell_type": "code",
   "execution_count": 5,
   "metadata": {},
   "outputs": [],
   "source": [
    "def top_10_returns(df,sector,year):\n",
    "    weights = [0.1, 0.1, 0.1, 0.1, 0.1, 0.1, 0.1, 0.1, 0.1, 0.1]\n",
    "    portfolio_monthly = df.dot(weights)\n",
    "    my_portfolio_one = (1+ portfolio_monthly).cumprod() -1\n",
    "    plt.plot(my_portfolio_one)\n",
    "    plt.xlabel('Time')\n",
    "    plt.title(f\"{sector} 'Top Dog' returns for {year}\")\n",
    "    plt.ylabel('Percent Change')\n",
    "    plt.savefig(f\"./out/{sector}_top_dog_returns{year}.png\")\n",
    "    my_portfolio_one = my_portfolio_one.tail(1)\n",
    "    my_portfolio_one = pd.DataFrame(my_portfolio_one)\n",
    "    my_portfolio_one = my_portfolio_one.reset_index(drop=True)\n",
    "    my_portfolio_one = my_portfolio_one.rename(columns={0:'Annual Return'})\n",
    "    my_portfolio_one['Sector'] = sector\n",
    "    my_portfolio_one['Year'] = year\n",
    "    my_portfolio_one['Portfolio']= f\"{sector} 'Top Dog' for year ending {year}\"\n",
    "    IT_csv = Path(f\"./out/top_{sector}.csv\")\n",
    "    my_portfolio_one.to_csv(path_or_buf=IT_csv, index=False)\n",
    "    return my_portfolio_one"
   ]
  },
  {
   "cell_type": "markdown",
   "metadata": {},
   "source": [
    "# Run the code"
   ]
  },
  {
   "cell_type": "markdown",
   "metadata": {},
   "source": [
    "## grab all ticker data for all sectors"
   ]
  },
  {
   "cell_type": "code",
   "execution_count": 6,
   "metadata": {},
   "outputs": [],
   "source": [
    "monthly_csv = Path(\"./aggregatedata.csv\")\n",
    "all_prices_df = pd.read_csv(monthly_csv, parse_dates=True, infer_datetime_format=True)"
   ]
  },
  {
   "cell_type": "markdown",
   "metadata": {},
   "source": [
    "## Now Loop through sectors"
   ]
  },
  {
   "cell_type": "code",
   "execution_count": 8,
   "metadata": {},
   "outputs": [
    {
     "name": "stdout",
     "output_type": "stream",
     "text": [
      "Calculating Top Portfolio for Technology for year end 2017\n",
      "\n",
      "\n",
      "Running combined_df_for_timeframe wtih start: 2015-01-01 and end: 2017-12-31\n",
      "\n",
      "\n",
      "\n",
      "\n",
      "Running combined_df_for_timeframe wtih start: 2018-01-01 and end: 2018-12-31\n",
      "\n",
      "\n",
      "                  BKI        NVDA       FIVN       USAT        COHR  \\\n",
      "Date                                                                  \n",
      "2018-01-02  45.849998  198.168060  23.950001   9.750000  291.290009   \n",
      "2018-02-01  49.549999  239.074081  25.900000   8.300000  254.929993   \n",
      "2018-03-01  47.849998  230.976700  30.340000   8.050000  209.380005   \n",
      "2018-04-02  46.900002  219.875946  28.809999   8.550000  185.979996   \n",
      "2018-05-01  48.900002  225.933609  30.059999   8.900000  176.119995   \n",
      "2018-06-01  50.700001  256.410187  35.599998  13.350000  166.580002   \n",
      "2018-07-02  53.700001  241.102402  35.320000  13.900000  152.300003   \n",
      "2018-08-01  52.349998  245.312561  32.889999  13.750000  179.250000   \n",
      "2018-09-04  53.900002  282.522156  48.470001  16.200001  191.029999   \n",
      "2018-10-01  51.919998  288.158661  42.250000   7.270000  172.589996   \n",
      "2018-11-01  49.040001  217.204468  39.150002   5.970000  134.169998   \n",
      "2018-12-03  45.549999  169.503479  42.700001   4.790000  137.500000   \n",
      "\n",
      "                 EBIX       AAOI        AMD       MRCY        TTWO  \n",
      "Date                                                                \n",
      "2018-01-02  76.536530  37.910000  10.980000  50.200001  112.879997  \n",
      "2018-02-01  82.282967  33.490002  13.250000  48.220001  124.639999  \n",
      "2018-03-01  82.355759  27.820000  11.900000  45.950001  107.540001  \n",
      "2018-04-02  72.836014  24.020000   9.530000  47.970001   95.919998  \n",
      "2018-05-01  77.645470  31.530001  11.130000  32.450001  104.300003  \n",
      "2018-06-01  74.348343  45.020000  14.400000  37.200001  114.589996  \n",
      "2018-07-02  77.524773  45.980000  15.160000  38.540001  119.870003  \n",
      "2018-08-01  78.765564  37.400002  18.480000  48.799999  112.239998  \n",
      "2018-09-04  76.952652  36.720001  28.059999  54.599998  134.529999  \n",
      "2018-10-01  78.194626  24.000000  31.420000  53.980000  137.410004  \n",
      "2018-11-01  55.441681  20.139999  20.219999  47.189999  128.910004  \n",
      "2018-12-03  47.399384  21.580000  23.709999  51.689999  103.459999  \n",
      "Calculating Top Portfolio for Financials for year end 2017\n",
      "\n",
      "\n",
      "Running combined_df_for_timeframe wtih start: 2015-01-01 and end: 2017-12-31\n",
      "\n",
      "\n",
      "\n",
      "\n",
      "Running combined_df_for_timeframe wtih start: 2018-01-01 and end: 2018-12-31\n",
      "\n",
      "\n",
      "                  BHF        PUB        PJT        NRE        FSB        NTB  \\\n",
      "Date                                                                           \n",
      "2018-01-02  57.669998  29.611336  44.860199  12.453836  33.659958  34.258228   \n",
      "2018-02-01  64.089996  31.026047  47.797947  10.848095  32.962856  38.399433   \n",
      "2018-03-01  53.470001  29.988909  47.788025   9.522422  30.971144  42.454514   \n",
      "2018-04-02  49.930000  30.575968  49.179199  12.121447  32.016792  40.977921   \n",
      "2018-05-01  50.880001  31.456558  54.961479  13.623637  33.709747  45.370090   \n",
      "2018-06-01  47.279999  36.069180  54.752838  13.352339  35.900635  45.646362   \n",
      "2018-07-02  40.779999  35.038631  54.295467  13.715278  38.689034  44.556156   \n",
      "2018-08-01  43.310001  35.578445  58.601318  13.008502  39.286549  47.428604   \n",
      "2018-09-04  40.750000  35.783840  56.930115  12.945354  38.838417  50.253578   \n",
      "2018-10-01  44.290001  33.135742  51.306770  13.389416  37.802723  48.648823   \n",
      "2018-11-01  40.570000  33.244030  46.967342  13.090158  33.460785  39.192245   \n",
      "2018-12-03  40.709999  32.000885  47.345551  15.939827  32.873226  38.266674   \n",
      "\n",
      "                  WINS        TREE        FBK       COWN  \n",
      "Date                                                      \n",
      "2018-01-02  217.000000  340.250000  42.490250  14.050000  \n",
      "2018-02-01  132.250000  370.600006  42.450706  13.300000  \n",
      "2018-03-01  139.000000  344.950012  39.396633  14.250000  \n",
      "2018-04-02  138.500000  321.950012  39.376862  13.200000  \n",
      "2018-05-01  140.009995  258.399994  39.593227  15.300000  \n",
      "2018-06-01  140.000000  259.649994  40.820618  15.150000  \n",
      "2018-07-02   83.000000  214.149994  40.860210  14.000000  \n",
      "2018-08-01   40.049999  238.300003  42.523609  15.850000  \n",
      "2018-09-04   94.945000  257.549988  43.584213  15.000000  \n",
      "2018-10-01   48.000000  218.330002  38.390190  16.540001  \n",
      "2018-11-01   49.500000  250.399994  36.546772  15.550000  \n",
      "2018-12-03   30.000000  265.390015  38.364670  15.990000  \n",
      "Calculating Top Portfolio for HealthCare for year end 2017\n",
      "\n",
      "\n",
      "Running combined_df_for_timeframe wtih start: 2015-01-01 and end: 2017-12-31\n",
      "\n",
      "\n",
      "\n",
      "\n",
      "Running combined_df_for_timeframe wtih start: 2018-01-01 and end: 2018-12-31\n",
      "\n",
      "\n",
      "              NK         PEN        GBT        ARA       AKCA       EXEL  \\\n",
      "Date                                                                       \n",
      "2018-01-02  4.38   90.349998  41.599998  17.639999  17.379999  31.400000   \n",
      "2018-02-01  4.28   98.000000  59.599998  18.719999  21.850000  30.660000   \n",
      "2018-03-01  4.40  108.449997  58.799999  19.809999  17.240000  24.209999   \n",
      "2018-04-02  3.62  112.199997  44.200001  18.110001  25.770000  21.490000   \n",
      "2018-05-01  3.93  127.750000  45.200001  14.300000  24.820000  21.000000   \n",
      "2018-06-01  3.71  165.250000  49.750000  14.260000  23.420000  20.580000   \n",
      "2018-07-02  2.87  138.550003  42.900002  15.760000  25.309999  21.620001   \n",
      "2018-08-01  3.41  144.899994  43.150002  15.760000  31.860001  20.520000   \n",
      "2018-09-04  3.24  140.600006  49.500000  21.340000  26.440001  18.639999   \n",
      "2018-10-01  3.56  147.649994  36.900002  22.840000  33.680000  17.840000   \n",
      "2018-11-01  2.48  141.160004  39.410000  19.850000  23.549999  14.950000   \n",
      "2018-12-03  1.78  145.190002  46.619999  16.700001  34.049999  21.500000   \n",
      "\n",
      "            NYMX       AXGN       ASMB       CORT  \n",
      "Date                                               \n",
      "2018-01-02  3.34  27.950001  46.279999  18.139999  \n",
      "2018-02-01  3.50  28.049999  45.799999  24.290001  \n",
      "2018-03-01  3.30  33.950001  58.509998  14.800000  \n",
      "2018-04-02  4.12  36.150002  46.750000  15.420000  \n",
      "2018-05-01  4.02  38.349998  44.540001  16.850000  \n",
      "2018-06-01  3.54  49.650002  43.169998  18.500000  \n",
      "2018-07-02  3.70  50.150002  39.580002  15.030000  \n",
      "2018-08-01  3.18  46.299999  41.250000  13.170000  \n",
      "2018-09-04  2.59  45.000000  38.880001  15.000000  \n",
      "2018-10-01  2.42  36.389999  36.450001  13.750000  \n",
      "2018-11-01  1.91  38.250000  23.780001  12.230000  \n",
      "2018-12-03  1.84  34.290001  25.670000  13.890000  \n"
     ]
    },
    {
     "data": {
      "image/png": "[encoded data removed]",
      "text/plain": [
       "<Figure size 432x288 with 1 Axes>"
      ]
     },
     "metadata": {
      "needs_background": "light"
     },
     "output_type": "display_data"
    }
   ],
   "source": [
    "sectors = ['Technology','Financials','HealthCare']\n",
    "start = '2015-01-01'\n",
    "end   = '2017-12-31'\n",
    "year_end,month,day = end.split('-')\n",
    "\n",
    "top_start = '2018-01-01'\n",
    "top_end   = '2018-12-31'\n",
    "\n",
    "# Loop through sectors, to find top dogs by sector\n",
    "for sector in sectors:\n",
    "    print(f\"Calculating Top Portfolio for {sector} for year end {year_end}\")\n",
    "    tickers = get_tickers_for_years(['2015','2016','2017'], sector)\n",
    "    results_df = combined_df_for_timeframe(all_prices_df,tickers,start,end,sector)\n",
    "    top10 = top_10_df(results_df)\n",
    "    top_tickers = []\n",
    "    top_tickers = top10['index'].tolist()\n",
    "    top_dog_portfolio = combined_df_for_timeframe(all_prices_df,top_tickers,top_start,top_end,sector)\n",
    "    #print(top_dog_portfolio)\n",
    "    #print(top_dog_portfolio.plot( title=f\"{sector} Portfolio Performance for {year_end}\" )   )\n",
    "    top_10_returns(top_dog_portfolio,sector,year_end)"
   ]
  },
  {
   "cell_type": "code",
   "execution_count": null,
   "metadata": {},
   "outputs": [],
   "source": []
  }
 ],
 "metadata": {
  "kernelspec": {
   "display_name": "Python 3",
   "language": "python",
   "name": "python3"
  },
  "language_info": {
   "codemirror_mode": {
    "name": "ipython",
    "version": 3
   },
   "file_extension": ".py",
   "mimetype": "text/x-python",
   "name": "python",
   "nbconvert_exporter": "python",
   "pygments_lexer": "ipython3",
   "version": "3.7.3"
  }
 },
 "nbformat": 4,
 "nbformat_minor": 4
}
